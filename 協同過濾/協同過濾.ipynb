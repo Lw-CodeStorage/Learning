{
 "cells": [
  {
   "cell_type": "code",
   "execution_count": 2,
   "metadata": {},
   "outputs": [
    {
     "name": "stdout",
     "output_type": "stream",
     "text": [
      "* 餘弦距離：\n",
      "顧客甲 --> 顧客乙(距離)：1.00 (相似度)：0.00\n",
      "顧客甲 --> 顧客丙(距離)：0.18 (相似度)：0.82\n",
      "顧客甲 --> 顧客甲(距離)：0.00 (相似度)：1.00\n",
      "==================================================\n",
      "* 皮爾森相關係數：\n",
      "顧客甲 --> 顧客乙(相似度)：-0.58 p 值：0.42\n",
      "顧客甲 --> 顧客丙(相似度)：0.58 p 值：0.42\n",
      "顧客甲 --> 顧客甲(相似度)：1.00 p 值：0.00\n"
     ]
    }
   ],
   "source": [
    "import scipy\n",
    "from scipy.stats import pearsonr\n",
    "from scipy.spatial.distance import cosine\n",
    "user1 = [1, 0, 1, 0] #顧客甲購買商品項目\n",
    "user2 = [0, 1, 0, 0] #顧客乙購買商品項目\n",
    "user3 = [1, 0, 1, 1] #顧客丙購買商品項目\n",
    "#計算餘弦距離\n",
    "print(\"* 餘弦距離：\")\n",
    "distance = cosine(user1, user2)\n",
    "print(f\"顧客甲 --> 顧客乙(距離)：{distance:1.2f} (相似度)：{1-distance:1.2f}\")\n",
    "distance = cosine(user1, user3)\n",
    "print(f\"顧客甲 --> 顧客丙(距離)：{distance:1.2f} (相似度)：{1-distance:1.2f}\")\n",
    "distance = cosine(user1, user1)\n",
    "print(f\"顧客甲 --> 顧客甲(距離)：{distance:1.2f} (相似度)：{1-distance:1.2f}\")\n",
    "print(\"=\"*50)\n",
    "# r：相關係數 [-1，1]之間。\n",
    "# p-value：p 值。p 值越小，表示相關係數越顯著。\n",
    "print(\"* 皮爾森相關係數：\")\n",
    "r_row, p_value = pearsonr(user1, user2)\n",
    "print(f\"顧客甲 --> 顧客乙(相似度)：{r_row:1.2f} p 值：{p_value:1.2f}\")\n",
    "r_row, p_value = pearsonr(user1, user3)\n",
    "print(f\"顧客甲 --> 顧客丙(相似度)：{r_row:1.2f} p 值：{p_value:1.2f}\")\n",
    "r_row, p_value = pearsonr(user1, user1)\n",
    "print(f\"顧客甲 --> 顧客甲(相似度)：{r_row:1.2f} p 值：{p_value:1.2f}\")"
   ]
  },
  {
   "cell_type": "markdown",
   "metadata": {},
   "source": [
    "itembase"
   ]
  },
  {
   "cell_type": "code",
   "execution_count": 3,
   "metadata": {},
   "outputs": [
    {
     "name": "stdout",
     "output_type": "stream",
     "text": [
      "* 餘弦距離：\n",
      "商品 A --> 商品 B(距離)：0.42 (相似度)：0.58\n",
      "商品 A --> 商品 C(距離)：0.18 (相似度)：0.82\n",
      "商品 A --> 商品 A(距離)：0.00 (相似度)：1.00\n"
     ]
    }
   ],
   "source": [
    "import scipy\n",
    "from scipy.spatial.distance import cosine\n",
    "item_A = [1, 1, 1] #商品 A 被哪些顧客購買\n",
    "item_B = [0, 1, 0] #商品 B 被哪些顧客購買\n",
    "item_C = [1, 1, 0] #商品 C 被哪些顧客購買\n",
    "#計算餘弦距離\n",
    "print(\"* 餘弦距離：\")\n",
    "distance = cosine(item_A, item_B)\n",
    "print(f\"商品 A --> 商品 B(距離)：{distance:1.2f} (相似度)：{1-distance:1.2f}\")\n",
    "distance = cosine(item_A, item_C)\n",
    "print(f\"商品 A --> 商品 C(距離)：{distance:1.2f} (相似度)：{1-distance:1.2f}\")\n",
    "distance = cosine(item_A, item_A)\n",
    "print(f\"商品 A --> 商品 A(距離)：{distance:1.2f} (相似度)：{1-distance:1.2f}\")"
   ]
  },
  {
   "cell_type": "code",
   "execution_count": 4,
   "metadata": {},
   "outputs": [
    {
     "name": "stdout",
     "output_type": "stream",
     "text": [
      "* 餘弦距離：\n",
      "讀者 1 --> 讀者 1 (距離)：0.00 (相似度)：1.00\n",
      "讀者 1 --> 讀者 2 (距離)：0.25 (相似度)：0.75\n",
      "讀者 1 --> 讀者 3 (距離)：0.37 (相似度)：0.63\n",
      "讀者 1 --> 讀者 4 (距離)：0.78 (相似度)：0.22\n",
      "讀者 1 --> 讀者 5 (距離)：0.70 (相似度)：0.30\n",
      "讀者 1 --> 讀者 6 (距離)：1.00 (相似度)：0.00\n"
     ]
    }
   ],
   "source": [
    "import scipy\n",
    "from scipy.spatial.distance import cosine\n",
    "reader1 = [4, 3, 0, 0, 5, 0] #讀者 1 對書籍的評分\n",
    "reader2 = [5, 0, 4, 0, 4, 0] #讀者 2 對書籍的評分\n",
    "reader3 = [4, 0, 5, 3, 4, 0] #讀者 3 對書籍的評分\n",
    "reader4 = [0, 3, 0, 0, 0, 5] #讀者 4 對書籍的評分\n",
    "reader5 = [0, 4, 0, 0, 0, 4] #讀者 5 對書籍的評分\n",
    "reader6 = [0, 0, 2, 4, 0, 5] #讀者 6 對書籍的評分\n",
    "#計算餘弦距離\n",
    "print(\"* 餘弦距離：\")\n",
    "distance = cosine(reader1, reader1)\n",
    "print(f\"讀者 1 --> 讀者 1 (距離)：{distance:1.2f} (相似度)：{1-distance:1.2f}\")\n",
    "distance = cosine(reader1, reader2)\n",
    "print(f\"讀者 1 --> 讀者 2 (距離)：{distance:1.2f} (相似度)：{1-distance:1.2f}\")\n",
    "distance = cosine(reader1, reader3)\n",
    "print(f\"讀者 1 --> 讀者 3 (距離)：{distance:1.2f} (相似度)：{1-distance:1.2f}\")\n",
    "distance = cosine(reader1, reader4)\n",
    "print(f\"讀者 1 --> 讀者 4 (距離)：{distance:1.2f} (相似度)：{1-distance:1.2f}\")\n",
    "distance = cosine(reader1, reader5)\n",
    "print(f\"讀者 1 --> 讀者 5 (距離)：{distance:1.2f} (相似度)：{1-distance:1.2f}\")\n",
    "distance = cosine(reader1, reader6)\n",
    "print(f\"讀者 1 --> 讀者 6 (距離)：{distance:1.2f} (相似度)：{1-distance:1.2f}\")"
   ]
  },
  {
   "cell_type": "code",
   "execution_count": null,
   "metadata": {},
   "outputs": [],
   "source": []
  }
 ],
 "metadata": {
  "kernelspec": {
   "display_name": "v01",
   "language": "python",
   "name": "v01"
  },
  "language_info": {
   "codemirror_mode": {
    "name": "ipython",
    "version": 3
   },
   "file_extension": ".py",
   "mimetype": "text/x-python",
   "name": "python",
   "nbconvert_exporter": "python",
   "pygments_lexer": "ipython3",
   "version": "3.10.5"
  },
  "orig_nbformat": 4,
  "vscode": {
   "interpreter": {
    "hash": "865d8b2eb28e274047ba64063dfb6a2aabf0dfec4905d304d7a76618dae6fdd4"
   }
  }
 },
 "nbformat": 4,
 "nbformat_minor": 2
}
