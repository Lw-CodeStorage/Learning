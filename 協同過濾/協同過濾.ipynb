{
 "cells": [
  {
   "cell_type": "markdown",
   "metadata": {},
   "source": [
    "UserBase"
   ]
  },
  {
   "cell_type": "code",
   "execution_count": 1,
   "metadata": {},
   "outputs": [
    {
     "name": "stdout",
     "output_type": "stream",
     "text": [
      "* 餘弦距離：\n",
      "顧客甲 --> 顧客乙(距離)：1.00 (相似度)：0.00\n",
      "顧客甲 --> 顧客丙(距離)：0.18 (相似度)：0.82\n",
      "顧客甲 --> 顧客甲(距離)：0.00 (相似度)：1.00\n",
      "==================================================\n",
      "* 皮爾森相關係數：\n",
      "顧客甲 --> 顧客乙(相似度)：-0.58 p 值：0.42\n",
      "顧客甲 --> 顧客丙(相似度)：0.58 p 值：0.42\n",
      "顧客甲 --> 顧客甲(相似度)：1.00 p 值：0.00\n"
     ]
    }
   ],
   "source": [
    "import scipy\n",
    "from scipy.stats import pearsonr\n",
    "from scipy.spatial.distance import cosine\n",
    "user1 = [1, 0, 1, 0] #顧客甲購買商品項目\n",
    "user2 = [0, 1, 0, 0] #顧客乙購買商品項目\n",
    "user3 = [1, 0, 1, 1] #顧客丙購買商品項目\n",
    "#計算餘弦距離\n",
    "print(\"* 餘弦距離：\")\n",
    "distance = cosine(user1, user2)\n",
    "print(f\"顧客甲 --> 顧客乙(距離)：{distance:1.2f} (相似度)：{1-distance:1.2f}\")\n",
    "distance = cosine(user1, user3)\n",
    "print(f\"顧客甲 --> 顧客丙(距離)：{distance:1.2f} (相似度)：{1-distance:1.2f}\")\n",
    "distance = cosine(user1, user1)\n",
    "print(f\"顧客甲 --> 顧客甲(距離)：{distance:1.2f} (相似度)：{1-distance:1.2f}\")\n",
    "print(\"=\"*50)\n",
    "# r：相關係數 [-1，1]之間。\n",
    "# p-value：p 值。p 值越小，表示相關係數越顯著。\n",
    "print(\"* 皮爾森相關係數：\")\n",
    "r_row, p_value = pearsonr(user1, user2)\n",
    "print(f\"顧客甲 --> 顧客乙(相似度)：{r_row:1.2f} p 值：{p_value:1.2f}\")\n",
    "r_row, p_value = pearsonr(user1, user3)\n",
    "print(f\"顧客甲 --> 顧客丙(相似度)：{r_row:1.2f} p 值：{p_value:1.2f}\")\n",
    "r_row, p_value = pearsonr(user1, user1)\n",
    "print(f\"顧客甲 --> 顧客甲(相似度)：{r_row:1.2f} p 值：{p_value:1.2f}\")"
   ]
  },
  {
   "cell_type": "markdown",
   "metadata": {},
   "source": [
    "Itembase"
   ]
  },
  {
   "cell_type": "code",
   "execution_count": 3,
   "metadata": {},
   "outputs": [
    {
     "name": "stdout",
     "output_type": "stream",
     "text": [
      "* 餘弦距離：\n",
      "商品 A --> 商品 B(距離)：0.42 (相似度)：0.58\n",
      "商品 A --> 商品 C(距離)：0.18 (相似度)：0.82\n",
      "商品 A --> 商品 A(距離)：0.00 (相似度)：1.00\n"
     ]
    }
   ],
   "source": [
    "import scipy\n",
    "from scipy.spatial.distance import cosine\n",
    "item_A = [1, 1, 1] #商品 A 被哪些顧客購買\n",
    "item_B = [0, 1, 0] #商品 B 被哪些顧客購買\n",
    "item_C = [1, 1, 0] #商品 C 被哪些顧客購買\n",
    "#計算餘弦距離\n",
    "print(\"* 餘弦距離：\")\n",
    "distance = cosine(item_A, item_B)\n",
    "print(f\"商品 A --> 商品 B(距離)：{distance:1.2f} (相似度)：{1-distance:1.2f}\")\n",
    "distance = cosine(item_A, item_C)\n",
    "print(f\"商品 A --> 商品 C(距離)：{distance:1.2f} (相似度)：{1-distance:1.2f}\")\n",
    "distance = cosine(item_A, item_A)\n",
    "print(f\"商品 A --> 商品 A(距離)：{distance:1.2f} (相似度)：{1-distance:1.2f}\")"
   ]
  },
  {
   "cell_type": "markdown",
   "metadata": {},
   "source": [
    "### 計算讀者之間的相似度 Cosine Distance餘弦相似度(餘弦距離)"
   ]
  },
  {
   "cell_type": "code",
   "execution_count": 4,
   "metadata": {},
   "outputs": [
    {
     "name": "stdout",
     "output_type": "stream",
     "text": [
      "* 餘弦距離：\n",
      "讀者 1 --> 讀者 1 (距離)：0.00 (相似度)：1.00\n",
      "讀者 1 --> 讀者 2 (距離)：0.25 (相似度)：0.75\n",
      "讀者 1 --> 讀者 3 (距離)：0.37 (相似度)：0.63\n",
      "讀者 1 --> 讀者 4 (距離)：0.78 (相似度)：0.22\n",
      "讀者 1 --> 讀者 5 (距離)：0.70 (相似度)：0.30\n",
      "讀者 1 --> 讀者 6 (距離)：1.00 (相似度)：0.00\n"
     ]
    }
   ],
   "source": [
    "import scipy\n",
    "from scipy.spatial.distance import cosine\n",
    "reader1 = [4, 3, 0, 0, 5, 0] #讀者 1 對書籍的評分\n",
    "reader2 = [5, 0, 4, 0, 4, 0] #讀者 2 對書籍的評分\n",
    "reader3 = [4, 0, 5, 3, 4, 0] #讀者 3 對書籍的評分\n",
    "reader4 = [0, 3, 0, 0, 0, 5] #讀者 4 對書籍的評分\n",
    "reader5 = [0, 4, 0, 0, 0, 4] #讀者 5 對書籍的評分\n",
    "reader6 = [0, 0, 2, 4, 0, 5] #讀者 6 對書籍的評分\n",
    "#計算餘弦距離\n",
    "print(\"* 餘弦距離：\")\n",
    "distance = cosine(reader1, reader1)\n",
    "print(f\"讀者 1 --> 讀者 1 (距離)：{distance:1.2f} (相似度)：{1-distance:1.2f}\")\n",
    "distance = cosine(reader1, reader2)\n",
    "print(f\"讀者 1 --> 讀者 2 (距離)：{distance:1.2f} (相似度)：{1-distance:1.2f}\")\n",
    "distance = cosine(reader1, reader3)\n",
    "print(f\"讀者 1 --> 讀者 3 (距離)：{distance:1.2f} (相似度)：{1-distance:1.2f}\")\n",
    "distance = cosine(reader1, reader4)\n",
    "print(f\"讀者 1 --> 讀者 4 (距離)：{distance:1.2f} (相似度)：{1-distance:1.2f}\")\n",
    "distance = cosine(reader1, reader5)\n",
    "print(f\"讀者 1 --> 讀者 5 (距離)：{distance:1.2f} (相似度)：{1-distance:1.2f}\")\n",
    "distance = cosine(reader1, reader6)\n",
    "print(f\"讀者 1 --> 讀者 6 (距離)：{distance:1.2f} (相似度)：{1-distance:1.2f}\")"
   ]
  },
  {
   "cell_type": "markdown",
   "metadata": {},
   "source": [
    "### 計算書籍之間的相似度 Cosine Distance餘弦相似度(餘弦距離)"
   ]
  },
  {
   "cell_type": "code",
   "execution_count": 5,
   "metadata": {},
   "outputs": [
    {
     "name": "stdout",
     "output_type": "stream",
     "text": [
      "* 餘弦距離：\n",
      "書籍 1 --> 書籍 1 (距離)：0.00 (相似度)：1.00\n",
      "書籍 1 --> 書籍 2 (距離)：0.73 (相似度)：0.27\n",
      "書籍 1 --> 書籍 3 (距離)：0.21 (相似度)：0.79\n",
      "書籍 1 --> 書籍 4 (距離)：0.68 (相似度)：0.32\n",
      "書籍 1 --> 書籍 5 (距離)：0.02 (相似度)：0.98\n",
      "書籍 1 --> 書籍 6 (距離)：1.00 (相似度)：0.00\n"
     ]
    }
   ],
   "source": [
    "import scipy\n",
    "from scipy.spatial.distance import cosine\n",
    "import scipy\n",
    "from scipy.spatial.distance import cosine\n",
    "book1 = [4, 5, 4, 0, 0, 0] #書籍 1 讀者給的評分\n",
    "book2 = [3, 0, 0, 3, 4, 0] #書籍 2 讀者給的評分\n",
    "book3 = [0, 4, 5, 0, 0, 2] #書籍 3 讀者給的評分\n",
    "book4 = [0, 0, 3, 0, 0, 4] #書籍 4 讀者給的評分\n",
    "book5 = [5, 4, 4, 0, 0, 0] #書籍 5 讀者給的評分\n",
    "book6 = [0, 0, 0, 5, 4, 5] #書籍 6 讀者給的評分\n",
    "#計算餘弦距離\n",
    "print(\"* 餘弦距離：\")\n",
    "distance = cosine(book1, book1)\n",
    "print(f\"書籍 1 --> 書籍 1 (距離)：{distance:1.2f} (相似度)：{1-distance:1.2f}\")\n",
    "distance = cosine(book1, book2)\n",
    "print(f\"書籍 1 --> 書籍 2 (距離)：{distance:1.2f} (相似度)：{1-distance:1.2f}\")\n",
    "distance = cosine(book1, book3)\n",
    "print(f\"書籍 1 --> 書籍 3 (距離)：{distance:1.2f} (相似度)：{1-distance:1.2f}\")\n",
    "distance = cosine(book1, book4)\n",
    "print(f\"書籍 1 --> 書籍 4 (距離)：{distance:1.2f} (相似度)：{1-distance:1.2f}\")\n",
    "distance = cosine(book1, book5)\n",
    "print(f\"書籍 1 --> 書籍 5 (距離)：{distance:1.2f} (相似度)：{1-distance:1.2f}\")\n",
    "distance = cosine(book1, book6)\n",
    "print(f\"書籍 1 --> 書籍 6 (距離)：{distance:1.2f} (相似度)：{1-distance:1.2f}\")\n"
   ]
  },
  {
   "cell_type": "markdown",
   "metadata": {},
   "source": [
    "## 推薦系統範例\n",
    "### euclidean score "
   ]
  },
  {
   "cell_type": "code",
   "execution_count": 20,
   "metadata": {},
   "outputs": [
    {
     "name": "stdout",
     "output_type": "stream",
     "text": [
      "Euclidean_score:\n",
      "0.29429805508554946\n"
     ]
    }
   ],
   "source": [
    "import json\n",
    "import numpy as np\n",
    "# Returns the Euclidean distance score between user1 and user2\n",
    "\n",
    "def euclidean_score(dataset, user1, user2):\n",
    "    if user1 not in dataset:\n",
    "        raise TypeError(\"User \" + user1 + \" not present in the dataset\")\n",
    "    if user2 not in dataset:\n",
    "        raise TypeError(\"User \" + user2 + \" not present in the dataset\")\n",
    "    # Movies rated by both user1 and user2\n",
    "    # 為了計算得分，需要提取觀眾評分的電影紀錄\n",
    "    rated_by_both = {}\n",
    "    for item in dataset[user1]:\n",
    "        if item in dataset[user2]:\n",
    "            rated_by_both[item] = 1\n",
    "    # 如果沒有共同的電影，那麼觀眾之間沒有相似之處\n",
    "    if len(rated_by_both) == 0:\n",
    "        return 0\n",
    "    # 每個評級，只計算平方差的和的平方根，並將其歸一化，使得得分在 0~1 之間\n",
    "    squared_differences = []\n",
    "    for item in dataset[user1]:\n",
    "        if item in dataset[user2]:\n",
    "            squared_differences.append(\n",
    "                np.square(dataset[user1][item] - dataset[user2][item]))\n",
    "    return 1 / (1 + np.sqrt(np.sum(squared_differences)))\n",
    "if __name__==\"__main__\":\n",
    "    data= {\n",
    "        'John Carson':{\n",
    "            'Inception':2.5,\n",
    "            'Pulp Fiction':3.5,\n",
    "            'Anger Management':3.0,\n",
    "            'Fracture':3.5,\n",
    "            'Serendipity':2.5,\n",
    "            'Jerry Maguire':3.0\n",
    "        },\n",
    "        'Michelle Peterson':{\n",
    "            'Inception':3.0,\n",
    "            'Pulp Fiction':3.5,\n",
    "            'Anger Management':1.5,\n",
    "            'Fracture':5.0,\n",
    "            'Jerry Maguire':3.0,\n",
    "            'Serendipity':3.5,\n",
    "        },\n",
    "        'William Reynolds':{\n",
    "            'Inception':2.5,\n",
    "            'Pulp Fiction':3.0,\n",
    "            'Fracture':3.5,\n",
    "            'Jerry Maguire':4.0\n",
    "        }\n",
    "    }\n",
    "    # with open(data_file, \"r\") as f:\n",
    "    #     data = json.loads(f.read())\n",
    "    user1 = \"John Carson\"\n",
    "    user2 = \"Michelle Peterson\"\n",
    "    print(\"Euclidean_score:\")\n",
    "    print(euclidean_score(data, user1, user2))\n"
   ]
  },
  {
   "cell_type": "markdown",
   "metadata": {},
   "source": [
    "## pearson_score"
   ]
  },
  {
   "cell_type": "code",
   "execution_count": 21,
   "metadata": {},
   "outputs": [
    {
     "name": "stdout",
     "output_type": "stream",
     "text": [
      "Pearson score:\n",
      "0.39605901719066977\n"
     ]
    }
   ],
   "source": [
    "# pearson_score.py\n",
    "import json\n",
    "import numpy as np\n",
    "# Returns the Pearson correlation score between user1 and user2\n",
    "def pearson_score(dataset, user1, user2):\n",
    "    if user1 not in dataset:\n",
    "        raise TypeError(\"User \" + user1 + \" not present in the dataset\")\n",
    "    if user2 not in dataset:\n",
    "        raise TypeError(\"User \" + user2 + \" not present in the dataset\")\n",
    "    # Movies rated by both user1 and user2\n",
    "    rated_by_both = {}\n",
    "    for item in dataset[user1]:\n",
    "        if item in dataset[user2]:\n",
    "            rated_by_both[item] = 1\n",
    "    num_ratings = len(rated_by_both) \n",
    "    # If there are no common movies, the score is 0\n",
    "    if num_ratings == 0:\n",
    "        return 0\n",
    "    # Compute the sum of ratings of all the common preferences\n",
    "    user1_sum = np.sum([dataset[user1][item] for item in rated_by_both])\n",
    "    user2_sum = np.sum([dataset[user2][item] for item in rated_by_both])\n",
    "    # Compute the sum of squared ratings of all the common preferences\n",
    "    user1_squared_sum = np.sum([np.square(dataset[user1][item]) for item in rated_by_both])\n",
    "    user2_squared_sum = np.sum([np.square(dataset[user2][item]) for item in rated_by_both])\n",
    "    # Compute the sum of products of the common ratings\n",
    "    product_sum = np.sum([dataset[user1][item] * dataset[user2][item] for item in \n",
    "    rated_by_both])\n",
    "    # Compute the Pearson correlation\n",
    "    Sxy = product_sum - (user1_sum * user2_sum / num_ratings)\n",
    "\n",
    "    Sxx = user1_squared_sum - np.square(user1_sum) / num_ratings\n",
    "    Syy = user2_squared_sum - np.square(user2_sum) / num_ratings\n",
    "\n",
    "    if Sxx * Syy == 0:\n",
    "        return 0\n",
    "\n",
    "    return Sxy / np.sqrt(Sxx * Syy)\n",
    "    \n",
    "if __name__==\"__main__\":\n",
    "    data= {\n",
    "        'John Carson':{\n",
    "            'Inception':2.5,\n",
    "            'Pulp Fiction':3.5,\n",
    "            'Anger Management':3.0,\n",
    "            'Fracture':3.5,\n",
    "            'Serendipity':2.5,\n",
    "            'Jerry Maguire':3.0\n",
    "        },\n",
    "        'Michelle Peterson':{\n",
    "            'Inception':3.0,\n",
    "            'Pulp Fiction':3.5,\n",
    "            'Anger Management':1.5,\n",
    "            'Fracture':5.0,\n",
    "            'Jerry Maguire':3.0,\n",
    "            'Serendipity':3.5,\n",
    "        },\n",
    "        'William Reynolds':{\n",
    "            'Inception':2.5,\n",
    "            'Pulp Fiction':3.0,\n",
    "            'Fracture':3.5,\n",
    "            'Jerry Maguire':4.0\n",
    "        }\n",
    "    }\n",
    "    # with open(data, \"r\") as f:\n",
    "    #     data = json.loads(f.read())\n",
    "    user1 = \"John Carson\"\n",
    "    user2 = \"Michelle Peterson\"\n",
    "    print(\"Pearson score:\")\n",
    "    print(pearson_score(data, user1, user2))\n"
   ]
  },
  {
   "cell_type": "markdown",
   "metadata": {},
   "source": [
    "## similar_users"
   ]
  },
  {
   "cell_type": "code",
   "execution_count": 22,
   "metadata": {},
   "outputs": [
    {
     "name": "stdout",
     "output_type": "stream",
     "text": [
      "Users similar to John Carson:\n",
      "User\t\t\tSimilarity score\n",
      "William Reynolds \t\t 0.4\n",
      "Michelle Peterson \t\t 0.4\n"
     ]
    }
   ],
   "source": [
    "import json\n",
    "import numpy as np\n",
    "\n",
    "# Finds a specified number of users who are similar to the input user\n",
    "def find_similar_users(dataset, user, num_users):\n",
    "    if user not in dataset:\n",
    "        raise TypeError(\"User \" + user + \" not present in the dataset\")\n",
    "    # Compute Pearson scores for all the users\n",
    "    scores = np.array([[x, pearson_score(dataset, user, x)] for x in dataset if user != x])\n",
    "    #Sort the scores based on second column\n",
    "    scores_sorted = np.argsort(scores[:, 1])\n",
    "    # Sort the scores in decreasing order (highest score first) \n",
    "    scored_sorted_dec = scores_sorted[::-1]\n",
    "    # Extract top \"k\" indices\n",
    "    top_k = scored_sorted_dec[0:num_users]\n",
    "    return scores[top_k]\n",
    "if __name__==\"__main__\":\n",
    "    data= {\n",
    "        'John Carson':{\n",
    "            'Inception':2.5,\n",
    "            'Pulp Fiction':3.5,\n",
    "            'Anger Management':3.0,\n",
    "            'Fracture':3.5,\n",
    "            'Serendipity':2.5,\n",
    "            'Jerry Maguire':3.0\n",
    "        },\n",
    "        'Michelle Peterson':{\n",
    "            'Inception':3.0,\n",
    "            'Pulp Fiction':3.5,\n",
    "            'Anger Management':1.5,\n",
    "            'Fracture':5.0,\n",
    "            'Jerry Maguire':3.0,\n",
    "            'Serendipity':3.5,\n",
    "        },\n",
    "        'William Reynolds':{\n",
    "            'Inception':2.5,\n",
    "            'Pulp Fiction':3.0,\n",
    "            'Fracture':3.5,\n",
    "            'Jerry Maguire':4.0\n",
    "        }\n",
    "    }\n",
    "    user = \"John Carson\"\n",
    "    print(\"Users similar to \" + user + \":\")\n",
    "    similar_users = find_similar_users(data, user, 3) \n",
    "    print(\"User\\t\\t\\tSimilarity score\")\n",
    "    for item in similar_users:\n",
    "        print(item[0], \"\\t\\t\", round(float(item[1]), 2))\n"
   ]
  },
  {
   "cell_type": "code",
   "execution_count": null,
   "metadata": {},
   "outputs": [],
   "source": []
  }
 ],
 "metadata": {
  "kernelspec": {
   "display_name": "v01",
   "language": "python",
   "name": "v01"
  },
  "language_info": {
   "codemirror_mode": {
    "name": "ipython",
    "version": 3
   },
   "file_extension": ".py",
   "mimetype": "text/x-python",
   "name": "python",
   "nbconvert_exporter": "python",
   "pygments_lexer": "ipython3",
   "version": "3.10.5"
  },
  "orig_nbformat": 4,
  "vscode": {
   "interpreter": {
    "hash": "865d8b2eb28e274047ba64063dfb6a2aabf0dfec4905d304d7a76618dae6fdd4"
   }
  }
 },
 "nbformat": 4,
 "nbformat_minor": 2
}
