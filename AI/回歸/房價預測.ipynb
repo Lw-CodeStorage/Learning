{
 "cells": [
  {
   "cell_type": "code",
   "execution_count": null,
   "metadata": {},
   "outputs": [],
   "source": [
    "import numpy as np\n",
    "import pandas as pd\n",
    "import seaborn as sns\n",
    "import matplotlib.pyplot as plt\n",
    "\n",
    "import sklearn \n",
    "from sklearn.datasets import load_boston"
   ]
  },
  {
   "cell_type": "code",
   "execution_count": null,
   "metadata": {},
   "outputs": [],
   "source": [
    "\n",
    "data = load_boston()\n",
    "data.feature_names"
   ]
  },
  {
   "cell_type": "markdown",
   "metadata": {},
   "source": [
    "- CRIM 住房所在城鎮的人均犯罪率\n",
    "- ZN 住房用地超過 25,000 平方尺的比例\n",
    "- INDUS 住房所在城鎮非零售商用土地的比例\n",
    "- CHAS 有關查理斯河的虛擬變數(如果住房位於河邊則為 1，否則為 0)\n",
    "- NOX 一氧化氮濃度\n",
    "- RM 每處住房的平均房間數\n",
    "- AGE 建於 1940 年之前的業主自住房比例\n",
    "- DIS 住房距離波士頓五大中心區域的加權距離\n",
    "- RAD 距離住房最近的公路入口編號\n",
    "- TAX 每 10,000 美元的全額財產稅金額\n",
    "- PTRATIO 住房所在城鎮的師生比例\n",
    "- B 1000(Bk-0.63)^2，其中 Bk 指代城鎮中黑人的比例\n",
    "- LSTAT 弱勢群體人口所占比例\n",
    "- MEDV 業主自住房的中位數房價(以千美元計)"
   ]
  },
  {
   "cell_type": "code",
   "execution_count": null,
   "metadata": {},
   "outputs": [],
   "source": [
    "data_df = pd.DataFrame(data=data.data,columns=data.feature_names)\n",
    "data_df[\"MEDV\"] = data.target\n",
    "data_df"
   ]
  },
  {
   "cell_type": "code",
   "execution_count": null,
   "metadata": {},
   "outputs": [],
   "source": [
    "data_df.describe()\n",
    "# 可以稍微檢查一下 類別型有沒有異常\n",
    "# 百分比率 有沒有不合理\n",
    "# 資料筆數是否相同"
   ]
  },
  {
   "cell_type": "markdown",
   "metadata": {},
   "source": [
    "##### 檢查有無缺失值"
   ]
  },
  {
   "cell_type": "code",
   "execution_count": null,
   "metadata": {},
   "outputs": [],
   "source": [
    "data_df.isnull().any()"
   ]
  },
  {
   "cell_type": "code",
   "execution_count": null,
   "metadata": {},
   "outputs": [],
   "source": [
    "# to_numeric 將一列或多列轉為數值最佳方法，會嘗試將字串改為整數浮點，若不能轉換則為NAN\n",
    "# astype 強行轉換\n",
    "# infer_objects 推論轉換\n",
    "data_df.dtypes"
   ]
  },
  {
   "cell_type": "code",
   "execution_count": null,
   "metadata": {},
   "outputs": [],
   "source": [
    "sns.distplot(data.target)\n",
    "plt.show()"
   ]
  },
  {
   "cell_type": "code",
   "execution_count": null,
   "metadata": {},
   "outputs": [],
   "source": [
    "# regplot()：根據資料繪製線性迴歸(Linear Regression)模型圖\n",
    "# 透過簡單線性回歸可看出 平數 與 房價 呈現正相關\n",
    "sns.regplot(x=data_df[\"RM\"], y=data_df[\"MEDV\"])\n"
   ]
  },
  {
   "cell_type": "code",
   "execution_count": null,
   "metadata": {},
   "outputs": [],
   "source": [
    "#透過皮爾森映射熱力圖看出哪些特徵與目標變數有較高的相關性。\n",
    "\n",
    "sns.set(rc={\"figure.figsize\":(10,5)})\n",
    "sns.heatmap(data=data_df.corr(),cmap=\"RdBu\", #cmap=\"Greens\"\n",
    " annot_kws={\"size\":12},\n",
    " annot=True,\n",
    " fmt=\".2f\")\n"
   ]
  },
  {
   "cell_type": "markdown",
   "metadata": {},
   "source": [
    "元迴歸分析造成下列的不良影響：\n",
    "1. 膨脹最小平方法（least squares）估計參數值的變異數和共變數，使得迴歸係數的\n",
    "估計值變得很不精確。\n",
    "2. 膨脹迴歸係數估計值的相關係數。\n",
    "3. 膨脹預測值的變異數，但對預測能力不影響。\n",
    "4. 造成解釋迴歸係數及其信賴區間估計之困難。\n",
    "5. 造成整體模式的考驗達顯著，但各別迴歸係數之考驗不顯著的矛盾現象和解釋上\n",
    "之困擾。\n",
    "6. 造成迴歸係數的正負號與所期望者相反的衝突現象，這是由於自變項間之壓抑效\n",
    "果（suppress effect）造成的。\n",
    "一個比較簡單的診斷方法是察看自變項間的相關係數矩陣，看看該矩陣中是否\n",
    "有元素值（即自變項兩兩之間的相關係數值）是大於.90 以上者，若有，即表示該二\n",
    "變項互為「多元共線性變項」，並認為該迴歸分析中有嚴重的多元共線性問題存在。\n",
    "另一個比較正式、客觀的診斷法，則為使用第 j 個自變項的「變異數膨脹因數」\n",
    "（variance inflation factor）作為判斷的指標，凡變異數膨脹因數指標值大於 10 者，\n",
    "即表示第 j 個自變項是一個多元共線性變項。\n",
    "在一般的迴歸分析中，針對這種多元共線性問題，有些統計學家會建議將多元\n",
    "共線性變項予以刪除，不納入迴歸方程式中。但避免多元共線性問題所造成困擾的\n",
    "最佳解決方法，不是刪除該具有多元共線性變項，而是使用所謂的「偏差迴歸分析」\n",
    "（biased regression analysis, BRA）。其中以「山脊型迴歸」（ridge regression）最受到\n",
    "學者們的重視和使用；除此之外，尚有「主成分迴歸」（principal component\n",
    "regression）、「潛在根迴歸」（latent root regression）、「貝氏法迴歸」（Baysean\n",
    "regression）、「遞縮式迴歸」（shrinkage regression）等，不過這些偏差迴歸分析法所獲\n",
    "得的迴歸係數值都是「有偏差的」（biased），亦即這些迴歸係數的期望值不等於母群\n",
    "體的迴歸係數值，所以稱作偏差迴歸係數估計值，而本補救多元共線性問題的方法\n",
    "即稱作偏差迴歸分析法。\n"
   ]
  },
  {
   "cell_type": "code",
   "execution_count": null,
   "metadata": {},
   "outputs": [],
   "source": [
    "x = data_df.drop(\"MEDV\",axis=1)\n",
    "y = data_df[\"MEDV\"]"
   ]
  },
  {
   "cell_type": "code",
   "execution_count": null,
   "metadata": {},
   "outputs": [],
   "source": [
    "from sklearn.model_selection import train_test_split\n",
    "from sklearn.linear_model import LinearRegression\n",
    "x_train,x_test,y_train,y_test = train_test_split(x,y,test_size=0.3,random_state=0)\n"
   ]
  },
  {
   "cell_type": "code",
   "execution_count": null,
   "metadata": {},
   "outputs": [],
   "source": [
    "np.set_printoptions(precision=3, suppress=True)\n",
    "reg = LinearRegression()\n",
    "reg.fit(x_train,y_train)\n",
    "coef_df = pd.DataFrame(columns=x_train.columns,data=reg.coef_.reshape(1,13))\n",
    "predict = pd.DataFrame(reg.predict(x_test))\n",
    "print(\"訓練集score\",reg.score(x_train,y_train))\n",
    "print(\"測試集score\",reg.score(x_test,y_test)) \n",
    "# score 會把x_test拿去predict，之後再與y_test進行r2計算，與統計模型的r2_score一樣\n",
    "# 只是r2_score需要傳入predict的結果\n",
    "print(\"w權重\",reg.coef_)\n",
    "\n",
    "# 可以看出RM對於房價的影響是比較高的\n",
    "# 負相關的部分可以思考一下為什麼，例如NOX(一氧化碳農度)可以看出對於房價是負影響，可能工業區或嚴重汙染地區"
   ]
  },
  {
   "cell_type": "markdown",
   "metadata": {},
   "source": [
    "\n",
    "如果預測房價和實際房價一致的話，那麼所有的資料點都應該彙\n",
    "集在 y = x 這條線上，但這並不是現實，於是可以看到，除了少數點，大部分點散落在 y = x\n",
    "附近，大趨勢說明預測的結果還不錯。\n"
   ]
  },
  {
   "cell_type": "code",
   "execution_count": null,
   "metadata": {},
   "outputs": [],
   "source": [
    "plt.scatter(predict,y_test)\n",
    "plt.xlabel(\"predic price\")\n",
    "plt.ylabel(\"real price\")\n",
    "x = np.arange(0, 50)\n",
    "y = x\n",
    "plt.plot(x, y, color=\"red\", lw=4)"
   ]
  },
  {
   "cell_type": "code",
   "execution_count": null,
   "metadata": {},
   "outputs": [],
   "source": [
    "\n",
    "#重新設定 index\n",
    "y_test.reset_index(inplace=True, drop=True)\n",
    "predict.reset_index(inplace=True, drop=True)\n",
    "draw_data = pd.concat([y_test,predict],axis=1)\n",
    "draw_data.columns = [\"x\",\"y\"]\n",
    "#用於正常顯示中文，Apple Mac 可選用 Arial\n",
    "#plt.rcParams[\"font.sans-serif\"] = \"Microsoft JhengHei\"\n",
    "#用於正常顯示符號\n",
    "#plt.rcParams[\"axes.unicode_minus\"] = False\n",
    "sns.lmplot(x=\"x\", y=\"y\",\n",
    " data=draw_data,\n",
    " height=6,\n",
    " aspect=1.2,\n",
    " ci=95)"
   ]
  },
  {
   "cell_type": "markdown",
   "metadata": {},
   "source": [
    "量化評估指標\n",
    "###\n",
    "但依經驗歸納如下：R2的\n",
    "值大於 0.75，表示迴歸模型擬合度很好，迴歸方程的可解釋程度較高，即迴歸方程的精度較\n",
    "高。R2 的值在 0.5 和 0.75 之間，表示迴歸模型的擬合可以接受，但需要進一步修正迴歸模型。\n",
    "R2 的值小於 0.5，表示迴歸模型擬合有問題，"
   ]
  },
  {
   "cell_type": "code",
   "execution_count": null,
   "metadata": {},
   "outputs": [],
   "source": [
    "from sklearn import metrics\n",
    "mse = metrics.mean_squared_error(y_test,predict)\n",
    "rmse = np.sqrt(metrics.mean_squared_error(y_test, predict))\n",
    "r2 = metrics.r2_score(y_test, predict)\n",
    "print(mse)\n",
    "print(rmse)\n",
    "print(r2)\n",
    "\n"
   ]
  },
  {
   "cell_type": "markdown",
   "metadata": {},
   "source": [
    "====================================================================================================================================="
   ]
  },
  {
   "cell_type": "markdown",
   "metadata": {},
   "source": [
    "### 訓練完準確度不高怎麼辦\n",
    "\n",
    "為甚麼「訓練模型的正確率」這麼低呢（正確率：0.7645451026942549）？\n",
    "因為線性迴歸的的方程式為一條直線，當特徵與房價不成線性關係的話，那麼再怎麼分析，正確率都不會高。\n",
    "解決的方法有：(1).只討論呈線性關係的特徵、(2).使用多項式迴歸、(3).降維。\n"
   ]
  },
  {
   "cell_type": "markdown",
   "metadata": {},
   "source": [
    "### (一) 以特徵重要性訓練模型"
   ]
  },
  {
   "cell_type": "code",
   "execution_count": null,
   "metadata": {},
   "outputs": [],
   "source": [
    "\n",
    "boston_house = load_boston()\n",
    "boston_house_df = pd.DataFrame(data=boston_house.data,columns=boston_house.feature_names)\n",
    "boston_house_price = boston_house.target\n"
   ]
  },
  {
   "cell_type": "markdown",
   "metadata": {},
   "source": [
    "前述分析是直接使用所有的 13 個特徵，如果可以只選取比較重要的特徵出來分析？特別注意到如果要找尋重要性的話，一定要先做標準化，不然數據\n",
    "跑出來的結果會整個失真。"
   ]
  },
  {
   "cell_type": "code",
   "execution_count": null,
   "metadata": {},
   "outputs": [],
   "source": [
    "from sklearn.preprocessing import StandardScaler\n",
    "scale = StandardScaler() # Z-scaler 物件\n",
    "X_scaled = scale.fit_transform(boston_house_df)\n",
    "X_scaled_df = pd.DataFrame(X_scaled,columns=boston_house_df.keys())\n",
    "X_scaled_df"
   ]
  },
  {
   "cell_type": "code",
   "execution_count": null,
   "metadata": {},
   "outputs": [],
   "source": [
    "from sklearn.linear_model import LinearRegression\n",
    "from sklearn.decomposition import PCA\n",
    "LR_model = LinearRegression()\n",
    "LR_model.fit(X_scaled, boston_house_price)\n",
    "feature_importance = LR_model.coef_ #重要性\n",
    "plt.figure(figsize=(8,6)) #圖形大小\n",
    "plt.bar(X_scaled_df.columns, feature_importance) #繪製成直方圖\n",
    "plt.show() "
   ]
  },
  {
   "cell_type": "markdown",
   "metadata": {},
   "source": [
    "基本上數值（取絕對值後）越大代表越重要。因此嘗試將 CRIM、INDUS、CHAS、AGE、\n",
    "B 刪除，只使用 ZN、NOX、RM、DIS、RAD、TAX、PTRATIO、LSTAT 再做一次線性迴歸，\n",
    "來預測房價。"
   ]
  },
  {
   "cell_type": "code",
   "execution_count": null,
   "metadata": {},
   "outputs": [],
   "source": [
    "x = boston_house_df.drop([\"CRIM\",\"INDUS\",\"CHAS\",\"AGE\",\"B\"],axis=1)\n",
    "y = boston_house_price\n",
    "x_train,x_test,y_train,y_test = train_test_split(x,y,test_size=0.3,random_state=0)\n",
    "print(x_train.shape)\n",
    "print(x_test.shape)\n",
    "print(y_train.shape)\n",
    "print(y_test.shape)\n"
   ]
  },
  {
   "cell_type": "code",
   "execution_count": null,
   "metadata": {},
   "outputs": [],
   "source": [
    "model = LinearRegression()\n",
    "model.fit(x_train, y_train)\n",
    "y_pred = model.predict(x_test)\n",
    "train_score = model.score(x_train, y_train)\n",
    "print(f\"訓練模型的正確率：{train_score}\")\n",
    "print(f\"測試模型的正確率：{model.score(x_test,y_test)}\")\n",
    "print(\"=\"*45)\n",
    "# #評估模型\n",
    "mse = metrics.mean_squared_error(y_test, y_pred)\n",
    "rmse = np.sqrt(metrics.mean_squared_error(y_test, y_pred))\n",
    "r2 = metrics.r2_score(y_test, y_pred)\n",
    "print(\"1.均方誤差(MSE) =\", mse)\n",
    "print(\"2.均方根誤差(RMSE) =\", rmse)\n",
    "print(\"3.判定係數(R^2）=\", r2)\n",
    "# 以比較重要的特徵下去跑，在這樣的資料下 看起來並沒有比較高"
   ]
  },
  {
   "cell_type": "markdown",
   "metadata": {},
   "source": [
    "### (二) PCA 降維"
   ]
  },
  {
   "cell_type": "code",
   "execution_count": null,
   "metadata": {},
   "outputs": [],
   "source": [
    "import numpy as np\n",
    "import pandas as pd\n",
    "import seaborn as sns\n",
    "import matplotlib.pyplot as plt\n",
    "from sklearn.datasets import load_boston\n",
    "from sklearn.model_selection import train_test_split\n",
    "from sklearn.linear_model import LinearRegression\n",
    "from sklearn.preprocessing import StandardScaler\n",
    "from sklearn import decomposition\n",
    "boston_house = load_boston()\n",
    "x = pd.DataFrame(data=boston_house.data,columns=boston_house.feature_names)\n",
    "y = boston_house.target\n"
   ]
  },
  {
   "cell_type": "code",
   "execution_count": null,
   "metadata": {},
   "outputs": [],
   "source": [
    "\n",
    "x_train, x_test, y_train, y_test = \\\n",
    " train_test_split(x, y,\n",
    " test_size=0.3,\n",
    " random_state=0) #4"
   ]
  },
  {
   "cell_type": "code",
   "execution_count": null,
   "metadata": {},
   "outputs": [],
   "source": [
    "\n",
    "# Standarize our training data\n",
    "std_tool = StandardScaler()\n",
    "std_tool.fit(x_train)\n",
    "x_train = std_tool.transform(x_train)\n",
    "# PC 降維\n",
    "pca = decomposition.PCA(n_components=0.95)\n",
    "pca.fit(x_train)\n",
    "x_train = pca.transform(x_train)\n",
    "\n",
    "\n",
    "import matplotlib.pyplot as plt\n",
    "%matplotlib inline\n",
    "lr_model = LinearRegression()\n",
    "lr_model.fit(x_train, y_train) #將資料拿去訓練\n",
    "# Standarize x_test\n",
    "x_test = std_tool.transform(x_test)\n",
    "# Dimension reduction usng PCA\n",
    "x_test = pca.transform(x_test)\n",
    "#將 test 的資料用訓練出來的模型去預測\n",
    "y_predict = lr_model.predict(x_test)\n",
    "plt.figure(figsize=(8,6))\n",
    "plt.xlabel(\"Actual price\") #X 軸的標題\n",
    "plt.ylabel(\"Predict pcice\") #Y 軸的標題\n",
    "plt.plot([0,50], [0,50]) #劃一條基準線\n",
    "plt.scatter(y_test, y_predict) #比對預測跟實際的差\n",
    "print(\"train\",lr_model.score(x_train, y_train))\n",
    "print(\"test\",lr_model.score(x_test, y_test))"
   ]
  },
  {
   "cell_type": "markdown",
   "metadata": {},
   "source": [
    "### (三) 多項式"
   ]
  },
  {
   "cell_type": "code",
   "execution_count": 8,
   "metadata": {},
   "outputs": [
    {
     "name": "stderr",
     "output_type": "stream",
     "text": [
      "c:\\Users\\RY\\python_virtual_env\\gae\\lib\\site-packages\\sklearn\\utils\\deprecation.py:87: FutureWarning: Function load_boston is deprecated; `load_boston` is deprecated in 1.0 and will be removed in 1.2.\n",
      "\n",
      "    The Boston housing prices dataset has an ethical problem. You can refer to\n",
      "    the documentation of this function for further details.\n",
      "\n",
      "    The scikit-learn maintainers therefore strongly discourage the use of this\n",
      "    dataset unless the purpose of the code is to study and educate about\n",
      "    ethical issues in data science and machine learning.\n",
      "\n",
      "    In this special case, you can fetch the dataset from the original\n",
      "    source::\n",
      "\n",
      "        import pandas as pd\n",
      "        import numpy as np\n",
      "\n",
      "        data_url = \"http://lib.stat.cmu.edu/datasets/boston\"\n",
      "        raw_df = pd.read_csv(data_url, sep=\"\\s+\", skiprows=22, header=None)\n",
      "        data = np.hstack([raw_df.values[::2, :], raw_df.values[1::2, :2]])\n",
      "        target = raw_df.values[1::2, 2]\n",
      "\n",
      "    Alternative datasets include the California housing dataset (i.e.\n",
      "    :func:`~sklearn.datasets.fetch_california_housing`) and the Ames housing\n",
      "    dataset. You can load the datasets as follows::\n",
      "\n",
      "        from sklearn.datasets import fetch_california_housing\n",
      "        housing = fetch_california_housing()\n",
      "\n",
      "    for the California housing dataset and::\n",
      "\n",
      "        from sklearn.datasets import fetch_openml\n",
      "        housing = fetch_openml(name=\"house_prices\", as_frame=True)\n",
      "\n",
      "    for the Ames housing dataset.\n",
      "  warnings.warn(msg, category=FutureWarning)\n"
     ]
    }
   ],
   "source": [
    "import numpy as np\n",
    "import pandas as pd\n",
    "import seaborn as sns\n",
    "import matplotlib.pyplot as plt\n",
    "from sklearn.datasets import load_boston\n",
    "from sklearn.model_selection import train_test_split\n",
    "from sklearn.linear_model import LinearRegression\n",
    "from sklearn.preprocessing import StandardScaler\n",
    "from sklearn.preprocessing import PolynomialFeatures\n",
    "from sklearn.pipeline import make_pipeline\n",
    "boston_house = load_boston()\n",
    "x = pd.DataFrame(data=boston_house.data,columns=boston_house.feature_names)\n",
    "y = boston_house.target\n",
    "\n",
    "x_train, x_test, y_train, y_test = train_test_split(x, y,test_size=0.3,random_state=0) \n",
    "\n"
   ]
  },
  {
   "cell_type": "code",
   "execution_count": 12,
   "metadata": {},
   "outputs": [
    {
     "name": "stdout",
     "output_type": "stream",
     "text": [
      "train 0.9511378302322515\n",
      "test 0.6524885756525736\n",
      "Pipeline(steps=[('polynomialfeatures', PolynomialFeatures()),\n",
      "                ('linearregression', LinearRegression())])\n",
      "['1', 'x0', 'x1', 'x2', 'x3', 'x4', 'x5', 'x6', 'x7', 'x8', 'x9', 'x10', 'x11', 'x12', 'x0^2', 'x0 x1', 'x0 x2', 'x0 x3', 'x0 x4', 'x0 x5', 'x0 x6', 'x0 x7', 'x0 x8', 'x0 x9', 'x0 x10', 'x0 x11', 'x0 x12', 'x1^2', 'x1 x2', 'x1 x3', 'x1 x4', 'x1 x5', 'x1 x6', 'x1 x7', 'x1 x8', 'x1 x9', 'x1 x10', 'x1 x11', 'x1 x12', 'x2^2', 'x2 x3', 'x2 x4', 'x2 x5', 'x2 x6', 'x2 x7', 'x2 x8', 'x2 x9', 'x2 x10', 'x2 x11', 'x2 x12', 'x3^2', 'x3 x4', 'x3 x5', 'x3 x6', 'x3 x7', 'x3 x8', 'x3 x9', 'x3 x10', 'x3 x11', 'x3 x12', 'x4^2', 'x4 x5', 'x4 x6', 'x4 x7', 'x4 x8', 'x4 x9', 'x4 x10', 'x4 x11', 'x4 x12', 'x5^2', 'x5 x6', 'x5 x7', 'x5 x8', 'x5 x9', 'x5 x10', 'x5 x11', 'x5 x12', 'x6^2', 'x6 x7', 'x6 x8', 'x6 x9', 'x6 x10', 'x6 x11', 'x6 x12', 'x7^2', 'x7 x8', 'x7 x9', 'x7 x10', 'x7 x11', 'x7 x12', 'x8^2', 'x8 x9', 'x8 x10', 'x8 x11', 'x8 x12', 'x9^2', 'x9 x10', 'x9 x11', 'x9 x12', 'x10^2', 'x10 x11', 'x10 x12', 'x11^2', 'x11 x12', 'x12^2']\n",
      "[ 1.70148514e+08 -1.06607406e+00  1.93540200e-01 -6.37832120e+00\n",
      "  1.53179131e+01 -1.25908493e+01  4.14405296e+00  1.25910355e+00\n",
      " -1.14928846e+01  2.30899145e-02  1.11896631e-01  2.29335744e+00\n",
      " -1.47741315e-01 -1.53348853e+00  2.35140984e-03  3.00264321e-01\n",
      "  6.20702659e-01  1.36353890e+00 -1.03447123e-01  7.14834936e-02\n",
      " -3.53208813e-03  1.00896123e-01  6.35648294e-01 -4.89834891e-02\n",
      "  3.20043239e-01 -7.62989654e-05  1.26991081e-02 -1.66497188e-03\n",
      " -6.97631226e-03 -7.27998798e-02 -1.66105430e+00  3.29122164e-02\n",
      "  2.75366526e-04  1.91333253e-03  2.90873672e-03  6.20313443e-04\n",
      " -1.16779351e-02  1.20837368e-03 -4.00546096e-03  5.01124960e-02\n",
      " -1.81704797e-01  1.19739583e+00  4.23980803e-01  4.98072786e-03\n",
      "  1.99362729e-01 -3.61455837e-02  1.58297354e-03 -5.06692226e-02\n",
      "  4.51656629e-03 -1.51278557e-02  1.53179131e+01 -3.44129341e+01\n",
      " -6.63694182e+00  6.34264707e-02 -6.50853681e-01  5.08553678e-01\n",
      " -1.02924438e-02 -1.15298745e+00  1.48967318e-01 -5.23537779e-01\n",
      "  4.30035158e+00  1.14853758e+01 -3.66673752e-01  1.45237252e+01\n",
      " -1.57604792e+00  8.29269203e-02 -7.93784998e+00  3.20914799e-02\n",
      "  1.33619779e+00  9.52475593e-01 -9.48657225e-02  5.91596031e-01\n",
      "  1.03452960e-01 -2.79508286e-02 -4.68588929e-01  4.07418101e-03\n",
      " -2.50086019e-02  3.43237081e-04 -2.61949453e-03  1.98986363e-02\n",
      " -8.04920332e-04 -6.17718797e-03 -7.02823439e-04 -9.11926507e-03\n",
      "  3.90732921e-01 -1.14723246e-01 -3.58129269e-03 -1.21275636e-01\n",
      " -5.71891739e-03  9.13374190e-02 -1.84292416e-01  1.16673456e-02\n",
      " -5.77805421e-02 -1.64058005e-03 -3.72201021e-02 -1.06235314e-04\n",
      "  5.19899026e-03 -6.10432673e-05  3.59703052e-04  2.66755004e-02\n",
      "  8.50753996e-03  3.06690219e-02  1.32256361e-05  1.63321638e-04\n",
      "  2.32596270e-02]\n"
     ]
    },
    {
     "name": "stderr",
     "output_type": "stream",
     "text": [
      "c:\\Users\\RY\\python_virtual_env\\gae\\lib\\site-packages\\sklearn\\utils\\deprecation.py:87: FutureWarning: Function get_feature_names is deprecated; get_feature_names is deprecated in 1.0 and will be removed in 1.2. Please use get_feature_names_out instead.\n",
      "  warnings.warn(msg, category=FutureWarning)\n"
     ]
    }
   ],
   "source": [
    "model=make_pipeline(PolynomialFeatures(2),LinearRegression())\n",
    "model.fit(x_train,y_train)\n",
    "print(\"train\",model.score(x_train,y_train))\n",
    "print(\"test\",model.score(x_test,y_test))\n",
    "print(model)\n",
    "print(model['polynomialfeatures'].get_feature_names())\n",
    "print(model['linearregression'].coef_)"
   ]
  },
  {
   "cell_type": "markdown",
   "metadata": {},
   "source": [
    "SVM\n",
    "#### 主要優點：\n",
    "1. 解決高維特徵的分類問題和回歸問題很有效,在特徵維度大於樣本數時依然有很好的效\n",
    "果。\n",
    "2. 僅僅使用一部分支援向量來做超平面的決策，無需依賴全部資料。\n",
    "3. 有大量的核函數可以使用，從而可以很靈活的來解決各種非線性的分類回歸問題。\n",
    "4. 樣本量不是海量資料的時候，分類準確率高，泛化能力強。\n",
    "#### 主要缺點：\n",
    "1. 如果特徵維度遠遠大於樣本數，則 SVM 表現一般。\n",
    "2. SVM 在樣本量非常大，核函數映射維度非常高時，計算量過大，不太適合使用。\n",
    "3. 非線性問題的核函數的選"
   ]
  },
  {
   "cell_type": "code",
   "execution_count": null,
   "metadata": {},
   "outputs": [],
   "source": [
    "import numpy as np\n",
    "import pandas as pd\n",
    "import seaborn as sns\n",
    "import matplotlib.pyplot as plt\n",
    "from sklearn.datasets import load_boston\n",
    "from sklearn.model_selection import train_test_split\n",
    "from sklearn.linear_model import LinearRegression\n",
    "from sklearn.preprocessing import StandardScaler\n",
    "from sklearn.svm import SVR\n",
    "\n",
    "boston_house = load_boston()"
   ]
  },
  {
   "cell_type": "code",
   "execution_count": null,
   "metadata": {},
   "outputs": [],
   "source": [
    "train_x, test_x, train_y, test_y = \\\n",
    " train_test_split(boston_house.data, boston_house.target,\n",
    " test_size=0.30,\n",
    " random_state=0) "
   ]
  },
  {
   "cell_type": "code",
   "execution_count": null,
   "metadata": {},
   "outputs": [],
   "source": [
    "# 無標準化\n",
    "boston_svr = SVR()\n",
    "boston_svr.fit(train_x, train_y)\n",
    "print(\"train\",boston_svr.score(train_x,train_y))\n",
    "print(\"test\",boston_svr.score(test_x,test_y))"
   ]
  },
  {
   "cell_type": "code",
   "execution_count": null,
   "metadata": {},
   "outputs": [],
   "source": [
    "# 有標準化\n",
    "ss_x = StandardScaler()\n",
    "train_x = ss_x.fit_transform(train_x)\n",
    "test_x = ss_x.transform(test_x)\n",
    "boston_svr = SVR()\n",
    "boston_svr.fit(train_x, train_y)\n",
    "print(\"train\",boston_svr.score(train_x,train_y))\n",
    "print(\"test\",boston_svr.score(test_x,test_y))\n",
    "boston_svr_test_y_predict = boston_svr.predict(test_x)\n",
    "# len(boston_svr_test_y_predict)\n",
    "# len(test_y)"
   ]
  },
  {
   "cell_type": "code",
   "execution_count": null,
   "metadata": {},
   "outputs": [],
   "source": [
    "\n",
    "plt.figure(figsize=(8, 4), dpi=80)\n",
    "plt.plot(range(len(test_y)),\n",
    " test_y,\n",
    " ls=\"-.\",\n",
    " lw=2,\n",
    " c=\"r\",\n",
    " label=\"真實值\")\n",
    "plt.plot(range(len(boston_svr.predict(test_x))),\n",
    " boston_svr.predict(test_x),\n",
    " ls=\"-\",\n",
    " lw=2,\n",
    " c=\"b\",\n",
    " label=\"預測值\")\n",
    "#繪製網格\n",
    "plt.grid(alpha=0.4, linestyle=\":\")\n",
    "plt.legend()\n",
    "plt.xlabel(\"number\") #設置 x 軸的標籤文本\n",
    "plt.ylabel(\"房價\") #設置 y 軸的標籤文本\n",
    "plt.show() #顯示圖形\n",
    "#透過圖形可以直觀的看出，預測值和真實值還是有很大差距的\n"
   ]
  },
  {
   "cell_type": "markdown",
   "metadata": {},
   "source": [
    "#### MLP "
   ]
  },
  {
   "cell_type": "code",
   "execution_count": null,
   "metadata": {},
   "outputs": [],
   "source": [
    "import numpy as np\n",
    "import pandas as pd\n",
    "import seaborn as sns # visualization\n",
    "from sklearn import datasets\n",
    "from sklearn.neural_network import MLPClassifier # neural network\n",
    "from sklearn.neural_network import MLPRegressor # neural network\n",
    "from sklearn.model_selection import train_test_split\n",
    "from sklearn import metrics\n",
    "from sklearn.datasets import load_boston"
   ]
  },
  {
   "cell_type": "code",
   "execution_count": null,
   "metadata": {},
   "outputs": [],
   "source": [
    "boston_house = load_boston()"
   ]
  },
  {
   "cell_type": "code",
   "execution_count": null,
   "metadata": {},
   "outputs": [],
   "source": [
    "data_df = pd.DataFrame(boston_house.data,columns=boston_house.feature_names)\n",
    "data_df"
   ]
  },
  {
   "cell_type": "code",
   "execution_count": null,
   "metadata": {},
   "outputs": [],
   "source": [
    "train_x, test_x, train_y, test_y= train_test_split(boston_house.data,boston_house.target,test_size=0.3,\n",
    "random_state=10)\n"
   ]
  },
  {
   "cell_type": "code",
   "execution_count": null,
   "metadata": {},
   "outputs": [],
   "source": [
    "mlp = MLPRegressor(max_iter=500)\n",
    "mlp.fit(train_x,train_y)\n",
    "print(\"train\",mlp.score(train_x,train_y))\n",
    "print(\"test\",mlp.score(test_x,test_y))"
   ]
  },
  {
   "cell_type": "code",
   "execution_count": null,
   "metadata": {},
   "outputs": [],
   "source": [
    "from sklearn.preprocessing import StandardScaler\n",
    "scaler = StandardScaler().fit(train_x)\n",
    "train_x_scaler = scaler.transform(train_x)\n",
    "test_x_scaler = scaler.transform(test_x)\n",
    "mlp = MLPRegressor(max_iter=500)\n",
    "mlp.fit(train_x_scaler,train_y)\n",
    "\n",
    "print(\"train\",mlp.score(train_x_scaler,train_y))\n",
    "print(\"test\",mlp.score(test_x_scaler,test_y))\n",
    "print(test_y)\n",
    "print(mlp.predict(test_x_scaler))"
   ]
  },
  {
   "attachments": {},
   "cell_type": "markdown",
   "metadata": {},
   "source": [
    "# cv Lasso"
   ]
  },
  {
   "cell_type": "code",
   "execution_count": 7,
   "metadata": {},
   "outputs": [
    {
     "name": "stderr",
     "output_type": "stream",
     "text": [
      "c:\\Users\\RY\\python_virtual_env\\gae\\lib\\site-packages\\sklearn\\utils\\deprecation.py:87: FutureWarning: Function load_boston is deprecated; `load_boston` is deprecated in 1.0 and will be removed in 1.2.\n",
      "\n",
      "    The Boston housing prices dataset has an ethical problem. You can refer to\n",
      "    the documentation of this function for further details.\n",
      "\n",
      "    The scikit-learn maintainers therefore strongly discourage the use of this\n",
      "    dataset unless the purpose of the code is to study and educate about\n",
      "    ethical issues in data science and machine learning.\n",
      "\n",
      "    In this special case, you can fetch the dataset from the original\n",
      "    source::\n",
      "\n",
      "        import pandas as pd\n",
      "        import numpy as np\n",
      "\n",
      "        data_url = \"http://lib.stat.cmu.edu/datasets/boston\"\n",
      "        raw_df = pd.read_csv(data_url, sep=\"\\s+\", skiprows=22, header=None)\n",
      "        data = np.hstack([raw_df.values[::2, :], raw_df.values[1::2, :2]])\n",
      "        target = raw_df.values[1::2, 2]\n",
      "\n",
      "    Alternative datasets include the California housing dataset (i.e.\n",
      "    :func:`~sklearn.datasets.fetch_california_housing`) and the Ames housing\n",
      "    dataset. You can load the datasets as follows::\n",
      "\n",
      "        from sklearn.datasets import fetch_california_housing\n",
      "        housing = fetch_california_housing()\n",
      "\n",
      "    for the California housing dataset and::\n",
      "\n",
      "        from sklearn.datasets import fetch_openml\n",
      "        housing = fetch_openml(name=\"house_prices\", as_frame=True)\n",
      "\n",
      "    for the Ames housing dataset.\n",
      "  warnings.warn(msg, category=FutureWarning)\n"
     ]
    },
    {
     "name": "stdout",
     "output_type": "stream",
     "text": [
      "最佳係數: 0.7248204283772596\n",
      "0.7024437179872696\n",
      "[-0.07426626  0.04945448 -0.          0.         -0.          1.804385\n",
      "  0.01133345 -0.81324404  0.27228399 -0.01542465 -0.74287183  0.00892587\n",
      " -0.70365352]\n"
     ]
    }
   ],
   "source": [
    "from sklearn import linear_model\n",
    "from sklearn.preprocessing import StandardScaler\n",
    "import numpy as np\n",
    "import pandas as pd\n",
    "import seaborn as sns\n",
    "import matplotlib.pyplot as plt\n",
    "import sklearn \n",
    "from sklearn.datasets import load_boston\n",
    "from sklearn.datasets import load_diabetes\n",
    "\n",
    "boston_house = load_boston()\n",
    "\n",
    "clf = linear_model.LassoCV(eps=0.001,n_alphas=1000,cv=50)\n",
    "clf.fit(boston_house.data,boston_house.target)\n",
    "\n",
    "print(\"最佳係數:\",clf.alpha_)\n",
    "print(clf.score(boston_house.data,boston_house.target))\n",
    "print(clf.coef_)\n",
    "\n"
   ]
  },
  {
   "attachments": {},
   "cell_type": "markdown",
   "metadata": {},
   "source": [
    "# cv ridge"
   ]
  },
  {
   "cell_type": "code",
   "execution_count": 6,
   "metadata": {},
   "outputs": [
    {
     "name": "stdout",
     "output_type": "stream",
     "text": [
      "最佳係數: 0.041775510204081635\n",
      "0.7406347168053191\n",
      "-23.72518851115572\n",
      "[-1.07778247e-01  4.64857331e-02  1.85833881e-02  2.67961222e+00\n",
      " -1.72980024e+01  3.81353277e+00  2.75430094e-04 -1.46866221e+00\n",
      "  3.04949840e-01 -1.23717489e-02 -9.47551392e-01  9.33611972e-03\n",
      " -5.25278071e-01]\n"
     ]
    },
    {
     "name": "stderr",
     "output_type": "stream",
     "text": [
      "c:\\Users\\RY\\python_virtual_env\\gae\\lib\\site-packages\\sklearn\\utils\\deprecation.py:87: FutureWarning: Function load_boston is deprecated; `load_boston` is deprecated in 1.0 and will be removed in 1.2.\n",
      "\n",
      "    The Boston housing prices dataset has an ethical problem. You can refer to\n",
      "    the documentation of this function for further details.\n",
      "\n",
      "    The scikit-learn maintainers therefore strongly discourage the use of this\n",
      "    dataset unless the purpose of the code is to study and educate about\n",
      "    ethical issues in data science and machine learning.\n",
      "\n",
      "    In this special case, you can fetch the dataset from the original\n",
      "    source::\n",
      "\n",
      "        import pandas as pd\n",
      "        import numpy as np\n",
      "\n",
      "        data_url = \"http://lib.stat.cmu.edu/datasets/boston\"\n",
      "        raw_df = pd.read_csv(data_url, sep=\"\\s+\", skiprows=22, header=None)\n",
      "        data = np.hstack([raw_df.values[::2, :], raw_df.values[1::2, :2]])\n",
      "        target = raw_df.values[1::2, 2]\n",
      "\n",
      "    Alternative datasets include the California housing dataset (i.e.\n",
      "    :func:`~sklearn.datasets.fetch_california_housing`) and the Ames housing\n",
      "    dataset. You can load the datasets as follows::\n",
      "\n",
      "        from sklearn.datasets import fetch_california_housing\n",
      "        housing = fetch_california_housing()\n",
      "\n",
      "    for the California housing dataset and::\n",
      "\n",
      "        from sklearn.datasets import fetch_openml\n",
      "        housing = fetch_openml(name=\"house_prices\", as_frame=True)\n",
      "\n",
      "    for the Ames housing dataset.\n",
      "  warnings.warn(msg, category=FutureWarning)\n"
     ]
    },
    {
     "data": {
      "text/plain": [
       "[<matplotlib.lines.Line2D at 0x20656691f90>]"
      ]
     },
     "execution_count": 6,
     "metadata": {},
     "output_type": "execute_result"
    },
    {
     "data": {
      "image/png": "[encoded data removed]",
      "text/plain": [
       "<Figure size 432x288 with 1 Axes>"
      ]
     },
     "metadata": {
      "needs_background": "light"
     },
     "output_type": "display_data"
    }
   ],
   "source": [
    "from sklearn import linear_model\n",
    "from sklearn.preprocessing import StandardScaler\n",
    "import numpy as np\n",
    "import pandas as pd\n",
    "import seaborn as sns\n",
    "import matplotlib.pyplot as plt\n",
    "import sklearn \n",
    "from sklearn.datasets import load_boston\n",
    "from sklearn.datasets import load_diabetes\n",
    "\n",
    "boston_house = load_boston()\n",
    "#boston_house = load_diabetes()\n",
    "\n",
    "alpath_test = np.linspace(0.001,1)\n",
    "clf = linear_model.RidgeCV(alphas=alpath_test,store_cv_values=True)\n",
    "clf.fit(boston_house.data,boston_house.target)\n",
    "\n",
    "print(\"最佳係數:\",clf.alpha_)\n",
    "print(clf.score(boston_house.data,boston_house.target))\n",
    "print(clf.best_score_)\n",
    "print(clf.coef_)\n",
    "plt.plot(alpath_test,clf.cv_values_.mean(axis=0))\n",
    "plt.plot(clf.alpha_,min(clf.cv_values_.mean(axis=0)),'ro')\n"
   ]
  },
  {
   "cell_type": "code",
   "execution_count": null,
   "metadata": {},
   "outputs": [],
   "source": []
  }
 ],
 "metadata": {
  "kernelspec": {
   "display_name": "gae",
   "language": "python",
   "name": "python3"
  },
  "language_info": {
   "codemirror_mode": {
    "name": "ipython",
    "version": 3
   },
   "file_extension": ".py",
   "mimetype": "text/x-python",
   "name": "python",
   "nbconvert_exporter": "python",
   "pygments_lexer": "ipython3",
   "version": "3.10.9"
  },
  "orig_nbformat": 4,
  "vscode": {
   "interpreter": {
    "hash": "13515032fd99cb51767a97d96910d4b04b69994e8b361cd7e87915aec556ae65"
   }
  }
 },
 "nbformat": 4,
 "nbformat_minor": 2
}
