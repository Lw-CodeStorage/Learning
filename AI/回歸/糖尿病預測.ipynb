{
 "cells": [
  {
   "cell_type": "code",
   "execution_count": null,
   "metadata": {},
   "outputs": [
    {
     "ename": "",
     "evalue": "",
     "output_type": "error",
     "traceback": [
      "\u001b[1;31mRunning cells with 'Python 3.10.5 64-bit' requires ipykernel package.\n",
      "\u001b[1;31mRun the following command to install 'ipykernel' into the Python environment. \n",
      "\u001b[1;31mCommand: 'c:/Users/adamw/AppData/Local/Programs/Python/Python310/python.exe -m pip install ipykernel -U --user --force-reinstall'"
     ]
    }
   ],
   "source": [
    "## 糖尿病範例\n",
    "from sklearn.datasets import load_diabetes\n",
    "from sklearn.model_selection import train_test_split\n",
    "from sklearn.linear_model import LinearRegression\n",
    "import numpy as np\n",
    "from sklearn.metrics import r2_score\n",
    "\n",
    "#(1)导入数据\n",
    "X, y = load_diabetes().data, load_diabetes().target\n",
    "\n",
    "#（2）分割数据\n",
    "X_train, X_test, y_train, y_test = train_test_split(X, y, random_state = 0)\n",
    "\n",
    "#（3）训练\n",
    "LR = LinearRegression()\n",
    "performance = LR.fit(X_train, y_train)\n",
    "\n",
    "#（4）预测(本例分必要)\n",
    "y_pred_train = LR.predict(X_train) #在测试集合上预测\n",
    "y_pred_test = LR.predict(X_test) #在测试集合上预测\n",
    "\n",
    "#(5) 评估模型\n",
    "print(\"训练集合上R^2 = {:.3f}\".format(performance.score(X_train, y_train)))\n",
    "print(\"测试集合上R^2 = {:.3f} \".format(performance.score(X_test, y_test)))\n",
    "\n",
    "print(\"训练集合上R^2 = {:.3f}\".format(r2_score(y_train, y_pred_train)))\n",
    "print(\"测试集合上R^2 = {:.3f} \".format(r2_score(y_test,y_pred_test)))\n",
    "\n",
    "np.set_printoptions(precision = 3, suppress = True)\n",
    "print('w0 = {0:.3f}'.format(LR.intercept_))\n",
    "print('W = {}'.format(LR.coef_)) "
   ]
  },
  {
   "cell_type": "code",
   "execution_count": null,
   "metadata": {},
   "outputs": [],
   "source": []
  }
 ],
 "metadata": {
  "kernelspec": {
   "display_name": "Python 3.10.5 64-bit",
   "language": "python",
   "name": "python3"
  },
  "language_info": {
   "name": "python",
   "version": "3.10.5"
  },
  "orig_nbformat": 4,
  "vscode": {
   "interpreter": {
    "hash": "dcb8c65f7cc9faaf83071100b0c6a0211c9dce5ac50d6412a04dac4e5a4feb06"
   }
  }
 },
 "nbformat": 4,
 "nbformat_minor": 2
}
