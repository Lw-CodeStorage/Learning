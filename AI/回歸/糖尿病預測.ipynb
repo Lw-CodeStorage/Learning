{
 "cells": [
  {
   "cell_type": "code",
   "execution_count": null,
   "metadata": {},
   "outputs": [
    {
     "ename": "",
     "evalue": "",
     "output_type": "error",
     "traceback": [
      "\u001b[1;31mRunning cells with 'Python 3.10.5 64-bit' requires ipykernel package.\n",
      "\u001b[1;31mRun the following command to install 'ipykernel' into the Python environment. \n",
      "\u001b[1;31mCommand: 'c:/Users/adamw/AppData/Local/Programs/Python/Python310/python.exe -m pip install ipykernel -U --user --force-reinstall'"
     ]
    }
   ],
   "source": [
    "## 糖尿病範例\n",
    "from sklearn.datasets import load_diabetes\n",
    "from sklearn.model_selection import train_test_split\n",
    "from sklearn.linear_model import LinearRegression\n",
    "import numpy as np\n",
    "from sklearn.metrics import r2_score\n",
    "\n",
    "#(1)导入数据\n",
    "X, y = load_diabetes().data, load_diabetes().target\n",
    "\n",
    "#（2）分割数据\n",
    "X_train, X_test, y_train, y_test = train_test_split(X, y, random_state = 0)\n",
    "\n",
    "#（3）训练\n",
    "LR = LinearRegression()\n",
    "performance = LR.fit(X_train, y_train)\n",
    "\n",
    "#（4）预测(本例分必要)\n",
    "y_pred_train = LR.predict(X_train) #在测试集合上预测\n",
    "y_pred_test = LR.predict(X_test) #在测试集合上预测\n",
    "\n",
    "#(5) 评估模型\n",
    "print(\"训练集合上R^2 = {:.3f}\".format(performance.score(X_train, y_train)))\n",
    "print(\"测试集合上R^2 = {:.3f} \".format(performance.score(X_test, y_test)))\n",
    "\n",
    "print(\"训练集合上R^2 = {:.3f}\".format(r2_score(y_train, y_pred_train)))\n",
    "print(\"测试集合上R^2 = {:.3f} \".format(r2_score(y_test,y_pred_test)))\n",
    "\n",
    "np.set_printoptions(precision = 3, suppress = True)\n",
    "print('w0 = {0:.3f}'.format(LR.intercept_))\n",
    "print('W = {}'.format(LR.coef_)) "
   ]
  },
  {
   "cell_type": "code",
   "execution_count": 3,
   "metadata": {},
   "outputs": [
    {
     "data": {
      "text/plain": [
       "<function sklearn.datasets._base.load_diabetes(*, return_X_y=False, as_frame=False, scaled=True)>"
      ]
     },
     "execution_count": 3,
     "metadata": {},
     "output_type": "execute_result"
    }
   ],
   "source": [
    "## 糖尿病範例\n",
    "from sklearn.datasets import load_diabetes\n",
    "from sklearn.model_selection import train_test_split\n",
    "from sklearn.linear_model import LinearRegression\n",
    "import numpy as np\n",
    "from sklearn.metrics import r2_score\n",
    "\n",
    "diabetes_data =  load_diabetes\n",
    "diabetes_data"
   ]
  },
  {
   "cell_type": "code",
   "execution_count": null,
   "metadata": {},
   "outputs": [],
   "source": []
  }
 ],
 "metadata": {
  "kernelspec": {
   "display_name": "gae",
   "language": "python",
   "name": "python3"
  },
  "language_info": {
   "codemirror_mode": {
    "name": "ipython",
    "version": 3
   },
   "file_extension": ".py",
   "mimetype": "text/x-python",
   "name": "python",
   "nbconvert_exporter": "python",
   "pygments_lexer": "ipython3",
   "version": "3.10.9"
  },
  "orig_nbformat": 4,
  "vscode": {
   "interpreter": {
    "hash": "13515032fd99cb51767a97d96910d4b04b69994e8b361cd7e87915aec556ae65"
   }
  }
 },
 "nbformat": 4,
 "nbformat_minor": 2
}
