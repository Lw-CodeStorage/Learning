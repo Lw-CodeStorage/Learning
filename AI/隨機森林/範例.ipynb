{
 "cells": [
  {
   "cell_type": "code",
   "execution_count": 6,
   "metadata": {},
   "outputs": [],
   "source": [
    "from matplotlib import pyplot as plt\n",
    "import numpy as np\n",
    "import pandas as pd\n",
    "\n",
    "from sklearn import tree\n",
    "from sklearn import datasets\n",
    "from sklearn.model_selection import train_test_split\n",
    "from sklearn.ensemble import RandomForestClassifier\n",
    "\n",
    "\n",
    "iris = datasets.load_iris()\n",
    "x = iris.data\n",
    "y = iris.target\n",
    "x_train,x_test,y_train,y_test = train_test_split(x,y,test_size=.3)"
   ]
  },
  {
   "cell_type": "code",
   "execution_count": 28,
   "metadata": {},
   "outputs": [
    {
     "name": "stdout",
     "output_type": "stream",
     "text": [
      "trian 0.9523809523809523\n",
      "test 0.9111111111111111\n",
      "predict [1 0 0 2 1 1 1 0 2 2 1 0 2 2 0 1 0 1 0 2 1 1 1 0 2 1 0 1 1 2 2 1 0 1 2 1 0\n",
      " 1 0 0 2 0 0 0 2]\n",
      "ans [1 0 0 2 2 1 1 0 2 2 1 0 2 2 0 1 0 1 0 2 1 1 1 0 2 2 0 1 1 2 1 1 0 1 2 1 0\n",
      " 1 0 0 2 0 0 0 1]\n"
     ]
    }
   ],
   "source": [
    "rfc = RandomForestClassifier(n_estimators=1,random_state=10)\n",
    "rfc.fit(x_train,y_train)\n",
    "print(\"trian\",rfc.score(x_train,y_train))\n",
    "print(\"test\",rfc.score(x_test,y_test))\n",
    "print(\"predict\",rfc.predict(x_test))\n",
    "print(\"ans\",y_test)"
   ]
  },
  {
   "cell_type": "code",
   "execution_count": 40,
   "metadata": {},
   "outputs": [
    {
     "name": "stdout",
     "output_type": "stream",
     "text": [
      "trian 0.9523809523809523\n",
      "test 0.9777777777777777\n",
      "predict [1 0 0 2 2 1 1 0 2 2 1 0 2 2 0 1 0 1 0 2 1 1 1 0 2 2 0 1 1 2 1 1 0 1 2 1 0\n",
      " 1 0 0 2 0 0 0 2]\n",
      "ans [1 0 0 2 2 1 1 0 2 2 1 0 2 2 0 1 0 1 0 2 1 1 1 0 2 2 0 1 1 2 1 1 0 1 2 1 0\n",
      " 1 0 0 2 0 0 0 1]\n"
     ]
    }
   ],
   "source": [
    "# n_estimators 決策樹數量\n",
    "# random_state 隨機種子\n",
    "# n_jobs 核心數量\n",
    "# min_samples_leaf \n",
    "rfc = RandomForestClassifier(\n",
    "    n_estimators=100,\n",
    "    random_state=10,\n",
    "    min_samples_leaf=10)\n",
    "rfc.fit(x_train,y_train)\n",
    "print(\"trian\",rfc.score(x_train,y_train))\n",
    "print(\"test\",rfc.score(x_test,y_test))\n",
    "print(\"predict\",rfc.predict(x_test))\n",
    "print(\"ans\",y_test)"
   ]
  },
  {
   "cell_type": "code",
   "execution_count": 41,
   "metadata": {},
   "outputs": [
    {
     "name": "stdout",
     "output_type": "stream",
     "text": [
      "[0.11159155 0.0097921  0.44870718 0.42990918]\n"
     ]
    }
   ],
   "source": [
    "print(rfc.feature_importances_)"
   ]
  },
  {
   "cell_type": "markdown",
   "metadata": {},
   "source": [
    "#### 特徵重要性"
   ]
  },
  {
   "cell_type": "code",
   "execution_count": 56,
   "metadata": {},
   "outputs": [
    {
     "data": {
      "text/plain": [
       "<BarContainer object of 4 artists>"
      ]
     },
     "execution_count": 56,
     "metadata": {},
     "output_type": "execute_result"
    },
    {
     "data": {
      "image/png": "[encoded data removed]",
      "text/plain": [
       "<Figure size 432x288 with 1 Axes>"
      ]
     },
     "metadata": {
      "needs_background": "light"
     },
     "output_type": "display_data"
    }
   ],
   "source": [
    "plt.barh(iris.feature_names,sorted(rfc.feature_importances_))"
   ]
  },
  {
   "cell_type": "code",
   "execution_count": null,
   "metadata": {},
   "outputs": [],
   "source": []
  }
 ],
 "metadata": {
  "kernelspec": {
   "display_name": "v01",
   "language": "python",
   "name": "v01"
  },
  "language_info": {
   "codemirror_mode": {
    "name": "ipython",
    "version": 3
   },
   "file_extension": ".py",
   "mimetype": "text/x-python",
   "name": "python",
   "nbconvert_exporter": "python",
   "pygments_lexer": "ipython3",
   "version": "3.10.5"
  },
  "orig_nbformat": 4,
  "vscode": {
   "interpreter": {
    "hash": "dcb8c65f7cc9faaf83071100b0c6a0211c9dce5ac50d6412a04dac4e5a4feb06"
   }
  }
 },
 "nbformat": 4,
 "nbformat_minor": 2
}
