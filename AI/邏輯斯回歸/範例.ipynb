{
 "cells": [
  {
   "cell_type": "code",
   "execution_count": 48,
   "metadata": {},
   "outputs": [],
   "source": [
    "import numpy as np \n",
    "import pandas as pd\n",
    "import matplotlib.pyplot as plt\n",
    "from sklearn import linear_model"
   ]
  },
  {
   "cell_type": "code",
   "execution_count": 49,
   "metadata": {},
   "outputs": [
    {
     "data": {
      "text/html": [
       "<style>#sk-container-id-4 {color: black;background-color: white;}#sk-container-id-4 pre{padding: 0;}#sk-container-id-4 div.sk-toggleable {background-color: white;}#sk-container-id-4 label.sk-toggleable__label {cursor: pointer;display: block;width: 100%;margin-bottom: 0;padding: 0.3em;box-sizing: border-box;text-align: center;}#sk-container-id-4 label.sk-toggleable__label-arrow:before {content: \"▸\";float: left;margin-right: 0.25em;color: #696969;}#sk-container-id-4 label.sk-toggleable__label-arrow:hover:before {color: black;}#sk-container-id-4 div.sk-estimator:hover label.sk-toggleable__label-arrow:before {color: black;}#sk-container-id-4 div.sk-toggleable__content {max-height: 0;max-width: 0;overflow: hidden;text-align: left;background-color: #f0f8ff;}#sk-container-id-4 div.sk-toggleable__content pre {margin: 0.2em;color: black;border-radius: 0.25em;background-color: #f0f8ff;}#sk-container-id-4 input.sk-toggleable__control:checked~div.sk-toggleable__content {max-height: 200px;max-width: 100%;overflow: auto;}#sk-container-id-4 input.sk-toggleable__control:checked~label.sk-toggleable__label-arrow:before {content: \"▾\";}#sk-container-id-4 div.sk-estimator input.sk-toggleable__control:checked~label.sk-toggleable__label {background-color: #d4ebff;}#sk-container-id-4 div.sk-label input.sk-toggleable__control:checked~label.sk-toggleable__label {background-color: #d4ebff;}#sk-container-id-4 input.sk-hidden--visually {border: 0;clip: rect(1px 1px 1px 1px);clip: rect(1px, 1px, 1px, 1px);height: 1px;margin: -1px;overflow: hidden;padding: 0;position: absolute;width: 1px;}#sk-container-id-4 div.sk-estimator {font-family: monospace;background-color: #f0f8ff;border: 1px dotted black;border-radius: 0.25em;box-sizing: border-box;margin-bottom: 0.5em;}#sk-container-id-4 div.sk-estimator:hover {background-color: #d4ebff;}#sk-container-id-4 div.sk-parallel-item::after {content: \"\";width: 100%;border-bottom: 1px solid gray;flex-grow: 1;}#sk-container-id-4 div.sk-label:hover label.sk-toggleable__label {background-color: #d4ebff;}#sk-container-id-4 div.sk-serial::before {content: \"\";position: absolute;border-left: 1px solid gray;box-sizing: border-box;top: 0;bottom: 0;left: 50%;z-index: 0;}#sk-container-id-4 div.sk-serial {display: flex;flex-direction: column;align-items: center;background-color: white;padding-right: 0.2em;padding-left: 0.2em;position: relative;}#sk-container-id-4 div.sk-item {position: relative;z-index: 1;}#sk-container-id-4 div.sk-parallel {display: flex;align-items: stretch;justify-content: center;background-color: white;position: relative;}#sk-container-id-4 div.sk-item::before, #sk-container-id-4 div.sk-parallel-item::before {content: \"\";position: absolute;border-left: 1px solid gray;box-sizing: border-box;top: 0;bottom: 0;left: 50%;z-index: -1;}#sk-container-id-4 div.sk-parallel-item {display: flex;flex-direction: column;z-index: 1;position: relative;background-color: white;}#sk-container-id-4 div.sk-parallel-item:first-child::after {align-self: flex-end;width: 50%;}#sk-container-id-4 div.sk-parallel-item:last-child::after {align-self: flex-start;width: 50%;}#sk-container-id-4 div.sk-parallel-item:only-child::after {width: 0;}#sk-container-id-4 div.sk-dashed-wrapped {border: 1px dashed gray;margin: 0 0.4em 0.5em 0.4em;box-sizing: border-box;padding-bottom: 0.4em;background-color: white;}#sk-container-id-4 div.sk-label label {font-family: monospace;font-weight: bold;display: inline-block;line-height: 1.2em;}#sk-container-id-4 div.sk-label-container {text-align: center;}#sk-container-id-4 div.sk-container {/* jupyter's `normalize.less` sets `[hidden] { display: none; }` but bootstrap.min.css set `[hidden] { display: none !important; }` so we also need the `!important` here to be able to override the default hidden behavior on the sphinx rendered scikit-learn.org. See: https://github.com/scikit-learn/scikit-learn/issues/21755 */display: inline-block !important;position: relative;}#sk-container-id-4 div.sk-text-repr-fallback {display: none;}</style><div id=\"sk-container-id-4\" class=\"sk-top-container\"><div class=\"sk-text-repr-fallback\"><pre>LogisticRegression()</pre><b>In a Jupyter environment, please rerun this cell to show the HTML representation or trust the notebook. <br />On GitHub, the HTML representation is unable to render, please try loading this page with nbviewer.org.</b></div><div class=\"sk-container\" hidden><div class=\"sk-item\"><div class=\"sk-estimator sk-toggleable\"><input class=\"sk-toggleable__control sk-hidden--visually\" id=\"sk-estimator-id-4\" type=\"checkbox\" checked><label for=\"sk-estimator-id-4\" class=\"sk-toggleable__label sk-toggleable__label-arrow\">LogisticRegression</label><div class=\"sk-toggleable__content\"><pre>LogisticRegression()</pre></div></div></div></div></div>"
      ],
      "text/plain": [
       "LogisticRegression()"
      ]
     },
     "execution_count": 49,
     "metadata": {},
     "output_type": "execute_result"
    }
   ],
   "source": [
    "# 飲料杯數與得到糖尿病資料\n",
    "data = pd.read_csv('LogR_data.csv')\n",
    "x = data['Amount'].values #.values series取list\n",
    "y = data['Result'].values\n",
    "model = linear_model.LogisticRegression()\n",
    "model.fit(X=x.reshape(-1,1),y=y)\n"
   ]
  },
  {
   "cell_type": "code",
   "execution_count": 58,
   "metadata": {},
   "outputs": [],
   "source": [
    "\n",
    "w1=float(model.coef_)\n",
    "w0=float(model.intercept_)\n"
   ]
  },
  {
   "cell_type": "code",
   "execution_count": 54,
   "metadata": {},
   "outputs": [],
   "source": [
    "\n",
    "\n",
    "def sigmoid(x,wo,w1):\n",
    "    ln_odds=wo+w1*x\n",
    "    return 1/(1+np.exp(-ln_odds))\n"
   ]
  },
  {
   "cell_type": "code",
   "execution_count": 64,
   "metadata": {},
   "outputs": [
    {
     "data": {
      "text/plain": [
       "<matplotlib.lines.Line2D at 0x1cde4aa6d40>"
      ]
     },
     "execution_count": 64,
     "metadata": {},
     "output_type": "execute_result"
    },
    {
     "data": {
      "image/png": "[encoded data removed]",
      "text/plain": [
       "<Figure size 432x288 with 1 Axes>"
      ]
     },
     "metadata": {
      "needs_background": "light"
     },
     "output_type": "display_data"
    }
   ],
   "source": [
    "x=np.arange(0,10,1)\n",
    "s_x=sigmoid(x,w0,w1)\n",
    "plt.plot(x,s_x)\n",
    "plt.axhline(y=0.5, color='red')"
   ]
  },
  {
   "cell_type": "code",
   "execution_count": 65,
   "metadata": {},
   "outputs": [
    {
     "data": {
      "text/plain": [
       "array([0, 0, 1, 1], dtype=int64)"
      ]
     },
     "execution_count": 65,
     "metadata": {},
     "output_type": "execute_result"
    }
   ],
   "source": [
    "model.predict([[0],[1],[2],[3]])"
   ]
  },
  {
   "cell_type": "code",
   "execution_count": 73,
   "metadata": {},
   "outputs": [
    {
     "name": "stdout",
     "output_type": "stream",
     "text": [
      "[0 1 3 2 1 1 0 0 1 0 2 3 3 2 2 0 2 3 2 3]\n",
      "[0 0 1 1 0 0 0 0 0 0 1 1 1 1 1 0 1 1 1 1]\n"
     ]
    },
    {
     "data": {
      "text/plain": [
       "array([[0.78616997, 0.21383003],\n",
       "       [0.61473154, 0.38526846],\n",
       "       [0.23107565, 0.76892435],\n",
       "       [0.40914498, 0.59085502],\n",
       "       [0.61473154, 0.38526846],\n",
       "       [0.61473154, 0.38526846],\n",
       "       [0.78616997, 0.21383003],\n",
       "       [0.78616997, 0.21383003],\n",
       "       [0.61473154, 0.38526846],\n",
       "       [0.78616997, 0.21383003],\n",
       "       [0.40914498, 0.59085502],\n",
       "       [0.23107565, 0.76892435],\n",
       "       [0.23107565, 0.76892435],\n",
       "       [0.40914498, 0.59085502],\n",
       "       [0.40914498, 0.59085502],\n",
       "       [0.78616997, 0.21383003],\n",
       "       [0.40914498, 0.59085502],\n",
       "       [0.23107565, 0.76892435],\n",
       "       [0.40914498, 0.59085502],\n",
       "       [0.23107565, 0.76892435]])"
      ]
     },
     "execution_count": 73,
     "metadata": {},
     "output_type": "execute_result"
    }
   ],
   "source": [
    "print(data['Amount'].values)\n",
    "print(model.predict(data['Amount'].values.reshape(-1,1)))\n",
    "model.predict_proba(data['Amount'].values.reshape(-1,1))\n",
    "# 以第一筆資料\n",
    "# 喝0杯，0.786 不會得到糖尿病、0.21會得到糖尿病\n"
   ]
  },
  {
   "cell_type": "markdown",
   "metadata": {},
   "source": [
    "##### 多元分類\n",
    "多做幾次的方式去執行，ex:1&23機率"
   ]
  },
  {
   "cell_type": "code",
   "execution_count": 76,
   "metadata": {},
   "outputs": [],
   "source": [
    "from sklearn import datasets\n",
    "from sklearn.model_selection import train_test_split"
   ]
  },
  {
   "cell_type": "code",
   "execution_count": 79,
   "metadata": {},
   "outputs": [],
   "source": [
    "iris_data = datasets.load_iris()\n",
    "x = iris_data.data\n",
    "y = iris_data.target\n",
    "x_train,x_test,y_train,y_test = train_test_split(x,y,test_size=0.3) "
   ]
  },
  {
   "cell_type": "code",
   "execution_count": 87,
   "metadata": {},
   "outputs": [
    {
     "name": "stdout",
     "output_type": "stream",
     "text": [
      "[[3.19566272e-02 9.46085398e-01 2.19579746e-02]\n",
      " [2.49076414e-02 9.25755645e-01 4.93367140e-02]\n",
      " [1.27365300e-03 6.70883242e-01 3.27843105e-01]\n",
      " [9.68276349e-01 3.17234818e-02 1.68966292e-07]\n",
      " [2.99254147e-02 9.51672227e-01 1.84023584e-02]\n",
      " [2.71638290e-05 5.10947225e-02 9.48878114e-01]\n",
      " [1.00156863e-02 9.32819567e-01 5.71647467e-02]\n",
      " [3.51469826e-03 7.97729871e-01 1.98755431e-01]\n",
      " [9.86022746e-01 1.39772028e-02 5.15691463e-08]\n",
      " [9.60153261e-01 3.98465547e-02 1.84250668e-07]\n",
      " [9.72967198e-01 2.70326639e-02 1.38176172e-07]\n",
      " [1.82884564e-03 4.38976871e-01 5.59194283e-01]\n",
      " [9.66046264e-01 3.39535134e-02 2.22541589e-07]\n",
      " [3.56822992e-02 9.49325977e-01 1.49917237e-02]\n",
      " [2.59398016e-02 9.25508433e-01 4.85517654e-02]\n",
      " [1.82315185e-03 8.13769327e-01 1.84407521e-01]\n",
      " [6.77948082e-03 8.27478614e-01 1.65741906e-01]\n",
      " [9.68440935e-01 3.15588014e-02 2.64044775e-07]\n",
      " [9.63285659e-01 3.67141678e-02 1.73401505e-07]\n",
      " [1.98840358e-02 9.38032320e-01 4.20836441e-02]\n",
      " [1.38670436e-02 7.63435826e-01 2.22697131e-01]\n",
      " [9.36053065e-01 6.39464324e-02 5.02435477e-07]\n",
      " [9.66445965e-01 3.35539080e-02 1.26710183e-07]\n",
      " [9.72800280e-01 2.71995540e-02 1.65699271e-07]\n",
      " [9.68853117e-01 3.11466610e-02 2.21765307e-07]\n",
      " [2.31535818e-06 2.56497507e-02 9.74347934e-01]\n",
      " [9.62994537e-01 3.70051409e-02 3.22622058e-07]\n",
      " [3.67127467e-03 8.22036081e-01 1.74292645e-01]\n",
      " [9.82476505e-01 1.75233645e-02 1.30228841e-07]\n",
      " [1.58366469e-01 8.37685547e-01 3.94798415e-03]\n",
      " [7.42490970e-03 9.07414798e-01 8.51602924e-02]\n",
      " [1.76907994e-05 3.88617713e-02 9.61120538e-01]\n",
      " [9.70962870e-01 2.90370099e-02 1.19906568e-07]\n",
      " [6.06408030e-04 2.50625365e-01 7.48768227e-01]\n",
      " [4.29943868e-06 5.62482165e-02 9.43747484e-01]\n",
      " [5.63648207e-03 7.05965604e-01 2.88397914e-01]\n",
      " [4.19173739e-03 8.91820767e-01 1.03987495e-01]\n",
      " [3.57385854e-06 7.97001683e-03 9.92026409e-01]\n",
      " [9.64475645e-01 3.55238569e-02 4.97737670e-07]\n",
      " [1.41677719e-02 7.60679324e-01 2.25152904e-01]\n",
      " [4.44885952e-02 9.46665803e-01 8.84560193e-03]\n",
      " [3.38276219e-05 2.77201412e-02 9.72246031e-01]\n",
      " [9.79498535e-01 2.05014083e-02 5.64644371e-08]\n",
      " [9.70577774e-01 2.94220832e-02 1.42770824e-07]\n",
      " [9.41146285e-01 5.88526757e-02 1.03956755e-06]\n",
      " [9.84891706e-01 1.51082652e-02 2.86677224e-08]\n",
      " [1.90638318e-02 9.15370875e-01 6.55652930e-02]\n",
      " [9.80848403e-01 1.91515087e-02 8.87061932e-08]\n",
      " [4.67107732e-05 2.04137255e-01 7.95816034e-01]\n",
      " [1.18263661e-02 9.25259162e-01 6.29144719e-02]\n",
      " [3.68261429e-05 5.91811757e-02 9.40781998e-01]\n",
      " [1.04685869e-03 5.23552827e-01 4.75400314e-01]\n",
      " [2.95549478e-07 1.07319723e-02 9.89267732e-01]\n",
      " [2.65699410e-06 4.31082788e-02 9.56889064e-01]\n",
      " [9.80367872e-01 1.96320472e-02 8.10714910e-08]\n",
      " [9.77700945e-01 2.22989303e-02 1.24434652e-07]\n",
      " [5.15839684e-04 3.46024624e-01 6.53459537e-01]\n",
      " [8.84990350e-02 8.96930276e-01 1.45706893e-02]\n",
      " [4.60807163e-03 7.92784449e-01 2.02607480e-01]\n",
      " [1.42246382e-04 1.78171804e-01 8.21685950e-01]\n",
      " [3.15752186e-04 2.08642923e-01 7.91041325e-01]\n",
      " [3.73722235e-03 4.71315205e-01 5.24947573e-01]\n",
      " [2.04339075e-02 8.83999277e-01 9.55668151e-02]\n",
      " [2.84328755e-03 8.40066197e-01 1.57090515e-01]\n",
      " [1.12482977e-03 4.69052238e-01 5.29822932e-01]\n",
      " [1.90475548e-03 5.16470655e-01 4.81624589e-01]\n",
      " [1.01069341e-04 1.29638273e-01 8.70260658e-01]\n",
      " [1.86225712e-07 1.17240592e-02 9.88275755e-01]\n",
      " [9.84788969e-01 1.52109520e-02 7.86920565e-08]\n",
      " [9.10724868e-03 6.01110937e-01 3.89781815e-01]\n",
      " [9.79717161e-01 2.02826866e-02 1.52372648e-07]\n",
      " [9.42713672e-01 5.72851315e-02 1.19639913e-06]\n",
      " [9.59918156e-01 4.00816003e-02 2.44170040e-07]\n",
      " [5.71148333e-04 2.39325853e-01 7.60102999e-01]\n",
      " [2.24628913e-02 9.14664183e-01 6.28729261e-02]\n",
      " [6.30566113e-02 9.30240567e-01 6.70282141e-03]\n",
      " [9.75068056e-01 2.49317617e-02 1.82381990e-07]\n",
      " [9.82524365e-01 1.74755708e-02 6.47189637e-08]\n",
      " [2.27451461e-02 9.49147469e-01 2.81073845e-02]\n",
      " [7.33105407e-06 2.27927611e-02 9.77199908e-01]\n",
      " [5.06507229e-02 8.99832622e-01 4.95166555e-02]\n",
      " [2.54262374e-02 9.32292209e-01 4.22815537e-02]\n",
      " [9.52678446e-01 4.73202859e-02 1.26842217e-06]\n",
      " [9.48827308e-01 5.11722290e-02 4.63126087e-07]\n",
      " [7.74673109e-03 9.10676099e-01 8.15771700e-02]\n",
      " [1.67885500e-04 1.69917007e-01 8.29915107e-01]\n",
      " [1.32006748e-01 8.64147755e-01 3.84549675e-03]\n",
      " [9.94255205e-01 5.74478301e-03 1.20957201e-08]\n",
      " [3.45071689e-02 9.13644735e-01 5.18480965e-02]\n",
      " [8.43776405e-03 8.41799044e-01 1.49763192e-01]\n",
      " [9.72294507e-01 2.77053663e-02 1.26258268e-07]\n",
      " [4.08118428e-03 9.22007680e-01 7.39111353e-02]\n",
      " [4.50451178e-03 8.68328425e-01 1.27167063e-01]\n",
      " [8.95476159e-05 1.32807461e-01 8.67102991e-01]\n",
      " [9.76264103e-01 2.37357599e-02 1.36758139e-07]\n",
      " [9.76349574e-03 8.65335917e-01 1.24900588e-01]\n",
      " [2.34138822e-06 9.74217952e-03 9.90255479e-01]\n",
      " [1.65230924e-06 2.23637608e-02 9.77634587e-01]\n",
      " [1.74697199e-03 7.28897436e-01 2.69355592e-01]\n",
      " [2.03261699e-05 3.44472220e-02 9.65532452e-01]\n",
      " [1.53650719e-05 8.15878673e-02 9.18396768e-01]\n",
      " [3.31857009e-03 8.57222986e-01 1.39458444e-01]\n",
      " [2.75323487e-03 4.87417942e-01 5.09828823e-01]\n",
      " [2.26652479e-04 1.53367671e-01 8.46405676e-01]\n",
      " [2.49350335e-08 3.17673749e-03 9.96823238e-01]]\n",
      "0.9714285714285714\n"
     ]
    }
   ],
   "source": [
    "model = linear_model.LogisticRegression()\n",
    "model.fit(x_train,y_train)\n",
    "print(model.predict_proba(x_train))\n",
    "print(model.score(x_train,y_train))"
   ]
  },
  {
   "cell_type": "code",
   "execution_count": 91,
   "metadata": {},
   "outputs": [
    {
     "data": {
      "text/html": [
       "<div>\n",
       "<style scoped>\n",
       "    .dataframe tbody tr th:only-of-type {\n",
       "        vertical-align: middle;\n",
       "    }\n",
       "\n",
       "    .dataframe tbody tr th {\n",
       "        vertical-align: top;\n",
       "    }\n",
       "\n",
       "    .dataframe thead th {\n",
       "        text-align: right;\n",
       "    }\n",
       "</style>\n",
       "<table border=\"1\" class=\"dataframe\">\n",
       "  <thead>\n",
       "    <tr style=\"text-align: right;\">\n",
       "      <th></th>\n",
       "      <th>sepal length (cm)</th>\n",
       "      <th>sepal width (cm)</th>\n",
       "      <th>petal length (cm)</th>\n",
       "      <th>petal width (cm)</th>\n",
       "    </tr>\n",
       "  </thead>\n",
       "  <tbody>\n",
       "    <tr>\n",
       "      <th>0</th>\n",
       "      <td>5.1</td>\n",
       "      <td>3.5</td>\n",
       "      <td>1.4</td>\n",
       "      <td>0.2</td>\n",
       "    </tr>\n",
       "    <tr>\n",
       "      <th>1</th>\n",
       "      <td>4.9</td>\n",
       "      <td>3.0</td>\n",
       "      <td>1.4</td>\n",
       "      <td>0.2</td>\n",
       "    </tr>\n",
       "    <tr>\n",
       "      <th>2</th>\n",
       "      <td>4.7</td>\n",
       "      <td>3.2</td>\n",
       "      <td>1.3</td>\n",
       "      <td>0.2</td>\n",
       "    </tr>\n",
       "    <tr>\n",
       "      <th>3</th>\n",
       "      <td>4.6</td>\n",
       "      <td>3.1</td>\n",
       "      <td>1.5</td>\n",
       "      <td>0.2</td>\n",
       "    </tr>\n",
       "    <tr>\n",
       "      <th>4</th>\n",
       "      <td>5.0</td>\n",
       "      <td>3.6</td>\n",
       "      <td>1.4</td>\n",
       "      <td>0.2</td>\n",
       "    </tr>\n",
       "    <tr>\n",
       "      <th>...</th>\n",
       "      <td>...</td>\n",
       "      <td>...</td>\n",
       "      <td>...</td>\n",
       "      <td>...</td>\n",
       "    </tr>\n",
       "    <tr>\n",
       "      <th>145</th>\n",
       "      <td>6.7</td>\n",
       "      <td>3.0</td>\n",
       "      <td>5.2</td>\n",
       "      <td>2.3</td>\n",
       "    </tr>\n",
       "    <tr>\n",
       "      <th>146</th>\n",
       "      <td>6.3</td>\n",
       "      <td>2.5</td>\n",
       "      <td>5.0</td>\n",
       "      <td>1.9</td>\n",
       "    </tr>\n",
       "    <tr>\n",
       "      <th>147</th>\n",
       "      <td>6.5</td>\n",
       "      <td>3.0</td>\n",
       "      <td>5.2</td>\n",
       "      <td>2.0</td>\n",
       "    </tr>\n",
       "    <tr>\n",
       "      <th>148</th>\n",
       "      <td>6.2</td>\n",
       "      <td>3.4</td>\n",
       "      <td>5.4</td>\n",
       "      <td>2.3</td>\n",
       "    </tr>\n",
       "    <tr>\n",
       "      <th>149</th>\n",
       "      <td>5.9</td>\n",
       "      <td>3.0</td>\n",
       "      <td>5.1</td>\n",
       "      <td>1.8</td>\n",
       "    </tr>\n",
       "  </tbody>\n",
       "</table>\n",
       "<p>150 rows × 4 columns</p>\n",
       "</div>"
      ],
      "text/plain": [
       "     sepal length (cm)  sepal width (cm)  petal length (cm)  petal width (cm)\n",
       "0                  5.1               3.5                1.4               0.2\n",
       "1                  4.9               3.0                1.4               0.2\n",
       "2                  4.7               3.2                1.3               0.2\n",
       "3                  4.6               3.1                1.5               0.2\n",
       "4                  5.0               3.6                1.4               0.2\n",
       "..                 ...               ...                ...               ...\n",
       "145                6.7               3.0                5.2               2.3\n",
       "146                6.3               2.5                5.0               1.9\n",
       "147                6.5               3.0                5.2               2.0\n",
       "148                6.2               3.4                5.4               2.3\n",
       "149                5.9               3.0                5.1               1.8\n",
       "\n",
       "[150 rows x 4 columns]"
      ]
     },
     "execution_count": 91,
     "metadata": {},
     "output_type": "execute_result"
    }
   ],
   "source": [
    "iris = datasets.load_iris()\n",
    "d = pd.DataFrame(data=iris.data,columns=iris.feature_names)\n",
    "d"
   ]
  },
  {
   "cell_type": "code",
   "execution_count": 88,
   "metadata": {},
   "outputs": [
    {
     "name": "stdout",
     "output_type": "stream",
     "text": [
      "target_names: ['setosa' 'versicolor' 'virginica']\n"
     ]
    },
    {
     "data": {
      "image/png": "[encoded data removed]",
      "text/plain": [
       "<Figure size 432x288 with 1 Axes>"
      ]
     },
     "metadata": {
      "needs_background": "light"
     },
     "output_type": "display_data"
    },
    {
     "name": "stderr",
     "output_type": "stream",
     "text": [
      "*c* argument looks like a single numeric RGB or RGBA sequence, which should be avoided as value-mapping will have precedence in case its length matches with *x* & *y*.  Please use the *color* keyword-argument or provide a 2D array with a single row if you intend to specify the same RGB or RGBA value for all points.\n",
      "*c* argument looks like a single numeric RGB or RGBA sequence, which should be avoided as value-mapping will have precedence in case its length matches with *x* & *y*.  Please use the *color* keyword-argument or provide a 2D array with a single row if you intend to specify the same RGB or RGBA value for all points.\n",
      "C:\\Users\\adamw\\AppData\\Local\\Temp\\ipykernel_17988\\1172431731.py:80: UserWarning: You passed a edgecolor/edgecolors ('black') for an unfilled marker ('x').  Matplotlib is ignoring the edgecolor in favor of the facecolor.  This behavior may change in the future.\n",
      "  plt.scatter(x=X[y == cl, 0],\n"
     ]
    },
    {
     "data": {
      "image/png": "[encoded data removed]",
      "text/plain": [
       "<Figure size 432x288 with 1 Axes>"
      ]
     },
     "metadata": {
      "needs_background": "light"
     },
     "output_type": "display_data"
    }
   ],
   "source": [
    "from sklearn import datasets\n",
    "import pandas as pd\n",
    "import numpy as np\n",
    "import matplotlib.pyplot as plt\n",
    "import seaborn as sns\n",
    "%matplotlib inline\n",
    "iris = datasets.load_iris()\n",
    "x = pd.DataFrame(iris['data'], columns=iris['feature_names'])\n",
    "print(\"target_names: \"+str(iris['target_names']))\n",
    "y = pd.DataFrame(iris['target'], columns=['target'])\n",
    "iris_data = pd.concat([x,y], axis=1)\n",
    "iris_data = iris_data[['sepal length (cm)','petal length (cm)','target']]\n",
    "iris_data = iris_data[iris_data['target'].isin([0,1])]\n",
    "iris_data.head(3)\n",
    "from sklearn.model_selection import train_test_split\n",
    "X_train, X_test, y_train, y_test = train_test_split(\n",
    "    iris_data[['sepal length (cm)','petal length (cm)']], iris_data[['target']], test_size=0.3, random_state=0)\n",
    "len(X_train)\n",
    "X_test\n",
    "len(X_test)\n",
    "from sklearn.preprocessing import StandardScaler\n",
    "\n",
    "sc = StandardScaler()\n",
    "sc.fit(X_train)\n",
    "X_train_std = sc.transform(X_train)\n",
    "X_test_std = sc.transform(X_test)\n",
    "X_train_std\n",
    "from IPython.display import Math\n",
    "Math(r'z=w^Tx')\n",
    "Math(r'\\phi{(z)}=\\frac{1}{1+e^{-z}}')\n",
    "import matplotlib.pyplot as plt\n",
    "import numpy as np\n",
    "\n",
    "\n",
    "def sigmoid(z):\n",
    "    return 1.0 / (1.0 + np.exp(-z))\n",
    "\n",
    "z = np.arange(-7, 7, 0.1)\n",
    "phi_z = sigmoid(z)\n",
    "\n",
    "plt.plot(z, phi_z)\n",
    "plt.axvline(0.0, color='k')\n",
    "plt.ylim(-0.1, 1.1)\n",
    "plt.xlabel('z')\n",
    "plt.ylabel('$\\phi (z)$')\n",
    "\n",
    "# y axis ticks and gridline\n",
    "plt.yticks([0.0, 0.5, 1.0])\n",
    "ax = plt.gca()\n",
    "ax.yaxis.grid(True)\n",
    "\n",
    "plt.tight_layout()\n",
    "# plt.savefig('./figures/sigmoid.png', dpi=300)\n",
    "plt.show()\n",
    "y_train['target'].values\n",
    "from sklearn.linear_model import LogisticRegression\n",
    "lr = LogisticRegression()\n",
    "lr.fit(X_train_std,y_train['target'].values)\n",
    "from matplotlib.colors import ListedColormap\n",
    "\n",
    "def plot_decision_regions(X, y, classifier, test_idx=None, resolution=0.02):\n",
    "\n",
    "    # setup marker generator and color map\n",
    "    markers = ('s', 'x', 'o', '^', 'v')\n",
    "    colors = ('red', 'blue', 'lightgreen', 'gray', 'cyan')\n",
    "    cmap = ListedColormap(colors[:len(np.unique(y))])\n",
    "\n",
    "    # plot the decision surface\n",
    "    x1_min, x1_max = X[:, 0].min() - 1, X[:, 0].max() + 1\n",
    "    x2_min, x2_max = X[:, 1].min() - 1, X[:, 1].max() + 1\n",
    "    xx1, xx2 = np.meshgrid(np.arange(x1_min, x1_max, resolution),\n",
    "                           np.arange(x2_min, x2_max, resolution))\n",
    "    Z = classifier.predict(np.array([xx1.ravel(), xx2.ravel()]).T)\n",
    "    Z = Z.reshape(xx1.shape)\n",
    "    plt.contourf(xx1, xx2, Z, alpha=0.4, cmap=cmap)\n",
    "    plt.xlim(xx1.min(), xx1.max())\n",
    "    plt.ylim(xx2.min(), xx2.max())\n",
    "\n",
    "    for idx, cl in enumerate(np.unique(y)):\n",
    "        plt.scatter(x=X[y == cl, 0], \n",
    "                    y=X[y == cl, 1],\n",
    "                    alpha=0.6, \n",
    "                    c=cmap(idx),\n",
    "                    edgecolor='black',\n",
    "                    marker=markers[idx], \n",
    "                    label=cl)\n",
    "\n",
    "    # highlight test samples\n",
    "    if test_idx:\n",
    "        # plot all samples\n",
    "        if not versiontuple(np.__version__) >= versiontuple('1.9.0'):\n",
    "            X_test, y_test = X[list(test_idx), :], y[list(test_idx)]\n",
    "            warnings.warn('Please update to NumPy 1.9.0 or newer')\n",
    "        else:\n",
    "            X_test, y_test = X[test_idx, :], y[test_idx]\n",
    "\n",
    "        plt.scatter(X_test[:, 0],\n",
    "                    X_test[:, 1],\n",
    "                    c='',\n",
    "                    alpha=1.0,\n",
    "                    edgecolor='black',\n",
    "                    linewidths=1,\n",
    "                    marker='o',\n",
    "                    s=55, label='test set')\n",
    "plot_decision_regions(X_train_std, y_train['target'].values, classifier=lr)\n",
    "plt.xlabel('sepal length (cm) [standardized]')\n",
    "plt.ylabel('petal width [standardized]')\n",
    "plt.legend(loc='upper left')\n",
    "plt.tight_layout()\n",
    "plt.show()"
   ]
  },
  {
   "cell_type": "code",
   "execution_count": null,
   "metadata": {},
   "outputs": [],
   "source": []
  }
 ],
 "metadata": {
  "kernelspec": {
   "display_name": "v01",
   "language": "python",
   "name": "v01"
  },
  "language_info": {
   "codemirror_mode": {
    "name": "ipython",
    "version": 3
   },
   "file_extension": ".py",
   "mimetype": "text/x-python",
   "name": "python",
   "nbconvert_exporter": "python",
   "pygments_lexer": "ipython3",
   "version": "3.10.5"
  },
  "orig_nbformat": 4
 },
 "nbformat": 4,
 "nbformat_minor": 2
}
