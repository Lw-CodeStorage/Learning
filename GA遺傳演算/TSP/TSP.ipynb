{
 "cells": [
  {
   "cell_type": "code",
   "execution_count": 28,
   "metadata": {},
   "outputs": [],
   "source": [
    "import array\n",
    "import random\n",
    "import json\n",
    "import matplotlib.pyplot as plt\n",
    "import numpy\n",
    "\n",
    "from deap import algorithms\n",
    "from deap import base\n",
    "from deap import creator\n",
    "from deap import tools\n",
    "tsp = {\n",
    "    \"TourSize\" : 17,\n",
    "    \"OptTour\" : [15, 11, 8, 4, 1, 9, 10, 2, 14, 13, 16, 5, 7, 6, 12, 3, 0],\n",
    "    \"OptDistance\" : 2085,\n",
    "    \"DistanceMatrix\" :\n",
    "        [[0, 633, 257, 91, 412, 150, 80, 134, 259, 505, 353, 324, 70, 211, 268, 246, 121],\n",
    "        [633, 0, 390, 661, 227, 488, 572, 530, 555, 289, 282, 638, 567, 466, 420, 745, 518],\n",
    "        [257, 390, 0, 228, 169, 112, 196, 154, 372, 262, 110, 437, 191, 74, 53, 472, 142],\n",
    "        [91, 661, 228, 0, 383, 120, 77, 105, 175, 476, 324, 240, 27, 182, 239, 237, 84],\n",
    "        [412, 227, 169, 383, 0, 267, 351, 309, 338, 196, 61, 421, 346, 243, 199, 528, 297],\n",
    "        [150, 488, 112, 120, 267, 0, 63, 34, 264, 360, 208, 329, 83, 105, 123, 364, 35],\n",
    "        [80, 572, 196, 77, 351, 63, 0, 29, 232, 444, 292, 297, 47, 150, 207, 332, 29],\n",
    "        [134, 530, 154, 105, 309, 34, 29, 0, 249, 402, 250, 314, 68, 108, 165, 349, 36],\n",
    "        [259, 555, 372, 175, 338, 264, 232, 249, 0, 495, 352, 95, 189, 326, 383, 202, 236],\n",
    "        [505, 289, 262, 476, 196, 360, 444, 402, 495, 0, 154, 578, 439, 336, 240, 685, 390],\n",
    "        [353, 282, 110, 324, 61, 208, 292, 250, 352, 154, 0, 435, 287, 184, 140, 542, 238],\n",
    "        [324, 638, 437, 240, 421, 329, 297, 314, 95, 578, 435, 0, 254, 391, 448, 157, 301],\n",
    "        [70, 567, 191, 27, 346, 83, 47, 68, 189, 439, 287, 254, 0, 145, 202, 289, 55],\n",
    "        [211, 466, 74, 182, 243, 105, 150, 108, 326, 336, 184, 391, 145, 0, 57, 426, 96],\n",
    "        [268, 420, 53, 239, 199, 123, 207, 165, 383, 240, 140, 448, 202, 57, 0, 483, 153],\n",
    "        [246, 745, 472, 237, 528, 364, 332, 349, 202, 685, 542, 157, 289, 426, 483, 0, 336],\n",
    "        [121, 518, 142, 84, 297, 35, 29, 36, 236, 390, 238, 301, 55, 96, 153, 336, 0]]\n",
    "    }"
   ]
  },
  {
   "cell_type": "code",
   "execution_count": 29,
   "metadata": {},
   "outputs": [],
   "source": [
    "distance_map = tsp[\"DistanceMatrix\"] #距離矩陣\n",
    "IND_SIZE = tsp[\"TourSize\"] # 基因長度"
   ]
  },
  {
   "cell_type": "code",
   "execution_count": 30,
   "metadata": {},
   "outputs": [
    {
     "name": "stderr",
     "output_type": "stream",
     "text": [
      "c:\\Users\\adamw\\OneDrive\\桌面\\VirtualEnv\\v01\\lib\\site-packages\\deap\\creator.py:138: RuntimeWarning: A class named 'FitnessMin' has already been created and it will be overwritten. Consider deleting previous creation of that class or rename it.\n",
      "  warnings.warn(\"A class named '{0}' has already been created and it \"\n",
      "c:\\Users\\adamw\\OneDrive\\桌面\\VirtualEnv\\v01\\lib\\site-packages\\deap\\creator.py:138: RuntimeWarning: A class named 'Individual' has already been created and it will be overwritten. Consider deleting previous creation of that class or rename it.\n",
      "  warnings.warn(\"A class named '{0}' has already been created and it \"\n"
     ]
    }
   ],
   "source": [
    "creator.create(\"FitnessMin\", base.Fitness, weights=(-1.0,)) # 找最小解宣告\n",
    "creator.create(\"Individual\", array.array, typecode='i', fitness=creator.FitnessMin) #定義基因"
   ]
  },
  {
   "cell_type": "code",
   "execution_count": 31,
   "metadata": {},
   "outputs": [],
   "source": [
    "toolbox = base.Toolbox()\n",
    "toolbox.register(\"indices\", random.sample, range(IND_SIZE), IND_SIZE) # 隨機產生基因\n",
    "\n",
    "# Structure initializers\n",
    "toolbox.register(\"individual\", tools.initIterate, creator.Individual, toolbox.indices) \n",
    "toolbox.register(\"population\", tools.initRepeat, list, toolbox.individual)\n"
   ]
  },
  {
   "cell_type": "code",
   "execution_count": 32,
   "metadata": {},
   "outputs": [],
   "source": [
    "def evalTSP(individual):\n",
    "    distance = distance_map[individual[-1]][individual[0]]\n",
    "    for gene1, gene2 in zip(individual[0:-1], individual[1:]):\n",
    "        distance += distance_map[gene1][gene2]\n",
    "    return distance,"
   ]
  },
  {
   "cell_type": "code",
   "execution_count": 33,
   "metadata": {},
   "outputs": [],
   "source": [
    "toolbox.register(\"mate\", tools.cxPartialyMatched)\n",
    "toolbox.register(\"mutate\", tools.mutShuffleIndexes, indpb=0.05)\n",
    "toolbox.register(\"select\", tools.selTournament, tournsize=3)\n",
    "toolbox.register(\"evaluate\", evalTSP)"
   ]
  },
  {
   "cell_type": "code",
   "execution_count": 34,
   "metadata": {},
   "outputs": [
    {
     "name": "stdout",
     "output_type": "stream",
     "text": [
      "gen\tnevals\tavg   \tstd    \tmin \tmax \n",
      "0  \t300   \t4651.9\t452.064\t3029\t5852\n",
      "1  \t233   \t4424.72\t460.664\t3029\t5800\n",
      "2  \t223   \t4229.61\t472.483\t2955\t5636\n",
      "3  \t226   \t4183.04\t475.652\t3037\t5544\n",
      "4  \t218   \t4033.93\t525.543\t3037\t5455\n",
      "5  \t227   \t4002.55\t553.36 \t2970\t5424\n",
      "6  \t235   \t3933.78\t589.559\t2823\t5384\n",
      "7  \t236   \t3792.33\t550.284\t2617\t5358\n",
      "8  \t228   \t3737.44\t563.372\t2617\t5728\n",
      "9  \t239   \t3651.4 \t601.146\t2617\t5386\n",
      "10 \t233   \t3479.37\t547.897\t2617\t5123\n",
      "11 \t239   \t3362.77\t498.341\t2571\t5015\n",
      "12 \t223   \t3248.4 \t462.065\t2571\t4964\n",
      "13 \t223   \t3088.57\t342.199\t2553\t4715\n",
      "14 \t236   \t3060.63\t364.513\t2431\t4783\n",
      "15 \t232   \t3041.98\t401.074\t2451\t4596\n",
      "16 \t220   \t2948.78\t363.237\t2410\t4621\n",
      "17 \t215   \t2941.28\t397.227\t2410\t4487\n",
      "18 \t228   \t2888.74\t368.193\t2345\t4481\n",
      "19 \t225   \t2846.45\t363.996\t2345\t4533\n",
      "20 \t250   \t2811.63\t397.294\t2325\t4631\n",
      "21 \t234   \t2733.31\t370.223\t2291\t4365\n",
      "22 \t230   \t2660.6 \t377.492\t2252\t4204\n",
      "23 \t224   \t2596.59\t411.806\t2252\t4507\n",
      "24 \t229   \t2483.78\t293.527\t2234\t3917\n",
      "25 \t228   \t2405.95\t264.628\t2210\t4243\n",
      "26 \t208   \t2375.63\t272.302\t2210\t4401\n",
      "27 \t233   \t2364.86\t284.589\t2210\t4015\n",
      "28 \t229   \t2346.83\t302.532\t2210\t4254\n",
      "29 \t253   \t2375.16\t389.718\t2210\t4886\n",
      "30 \t223   \t2360.37\t330.731\t2210\t3993\n",
      "31 \t214   \t2360.11\t340.711\t2195\t4254\n",
      "32 \t230   \t2328.8 \t314.725\t2207\t4472\n",
      "33 \t211   \t2313.56\t317.518\t2210\t5079\n",
      "34 \t231   \t2298.11\t295.356\t2210\t4170\n",
      "35 \t239   \t2257.79\t194.987\t2210\t3905\n",
      "36 \t223   \t2307.05\t331.909\t2210\t5163\n",
      "37 \t221   \t2285.79\t266.991\t2210\t3830\n",
      "38 \t238   \t2333.94\t403.561\t2210\t5081\n",
      "39 \t217   \t2278.96\t257.206\t2210\t3638\n",
      "40 \t226   \t2318.1 \t322.61 \t2210\t4465\n",
      "Best Individual =  Individual('i', [13, 14, 9, 1, 4, 10, 2, 5, 12, 8, 11, 15, 0, 3, 6, 7, 16])\n"
     ]
    }
   ],
   "source": [
    "def main():\n",
    "\n",
    "    pop = toolbox.population(n=300)\n",
    "    \n",
    "    hof = tools.HallOfFame(1)\n",
    "    stats = tools.Statistics(lambda ind: ind.fitness.values)\n",
    "    stats.register(\"avg\", numpy.mean)\n",
    "    stats.register(\"std\", numpy.std)\n",
    "    stats.register(\"min\", numpy.min)\n",
    "    stats.register(\"max\", numpy.max)\n",
    "    \n",
    "    algorithms.eaSimple(pop, toolbox, 0.7, 0.2, 40, stats=stats, \n",
    "                        halloffame=hof)\n",
    "    best = hof.items[0]\n",
    "    print('Best Individual = ', best)                    \n",
    "\n",
    "    return pop, stats, hof\n",
    "\n",
    "if __name__ == \"__main__\":\n",
    "    main()"
   ]
  },
  {
   "cell_type": "code",
   "execution_count": null,
   "metadata": {},
   "outputs": [],
   "source": [
    "pop = toolbox.population(n=300)\n",
    "\n",
    "hof = tools.HallOfFame(1)\n",
    "stats = tools.Statistics(lambda ind: ind.fitness.values)\n",
    "stats.register(\"avg\", numpy.mean)\n",
    "stats.register(\"std\", numpy.std)\n",
    "stats.register(\"min\", numpy.min)\n",
    "stats.register(\"max\", numpy.max)\n",
    "\n",
    "algorithms.eaSimple(pop, toolbox, 0.7, 0.2, 40, stats=stats,\n",
    "                    halloffame=hof)\n",
    "best = hof.items[0]\n",
    "print('Best Individual = ', best)\n"
   ]
  },
  {
   "cell_type": "code",
   "execution_count": 27,
   "metadata": {},
   "outputs": [
    {
     "data": {
      "text/plain": [
       "<deap.base.Toolbox at 0x190db2d6ec0>"
      ]
     },
     "execution_count": 27,
     "metadata": {},
     "output_type": "execute_result"
    }
   ],
   "source": [
    "toolbox"
   ]
  },
  {
   "cell_type": "code",
   "execution_count": null,
   "metadata": {},
   "outputs": [],
   "source": []
  }
 ],
 "metadata": {
  "language_info": {
   "name": "python"
  },
  "orig_nbformat": 4
 },
 "nbformat": 4,
 "nbformat_minor": 2
}
