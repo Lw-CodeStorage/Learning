{
 "cells": [
  {
   "cell_type": "markdown",
   "metadata": {},
   "source": [
    "## ex1"
   ]
  },
  {
   "cell_type": "code",
   "execution_count": 53,
   "metadata": {},
   "outputs": [
    {
     "name": "stdout",
     "output_type": "stream",
     "text": [
      "[[0, 0, 0, 0, 0], [0, 0, 1, 0, 0], [1, 1, 0, 1, 0], [1, 0, 1, 1, 0], [1, 0, 0, 0, 0], [1, 0, 1, 1, 0], [0, 1, 0, 0, 0], [0, 1, 0, 0, 0], [0, 1, 1, 1, 0], [1, 0, 0, 0, 0], [1, 0, 0, 1, 1], [1, 0, 1, 1, 1], [0, 1, 0, 1, 0], [1, 1, 0, 1, 0], [1, 0, 0, 1, 0], [1, 1, 1, 1, 0], [0, 1, 1, 1, 0], [0, 1, 1, 1, 0], [0, 0, 0, 1, 0], [0, 0, 1, 0, 0], [1, 1, 0, 1, 1], [0, 1, 1, 0, 1], [1, 1, 0, 1, 0], [1, 0, 1, 0, 0], [0, 0, 1, 0, 1]]\n",
      "-----------\n",
      "[[1, 1, 1, 1, 1], [1, 1, 1, 1, 1], [1, 1, 1, 1, 1], [1, 1, 1, 1, 1], [1, 1, 1, 1, 1], [1, 1, 1, 1, 1], [1, 1, 1, 1, 1], [1, 1, 1, 1, 1], [1, 1, 1, 1, 1], [1, 1, 1, 1, 1]]\n"
     ]
    },
    {
     "name": "stderr",
     "output_type": "stream",
     "text": [
      "c:\\Users\\adamw\\OneDrive\\桌面\\VirtualEnv\\v01\\lib\\site-packages\\deap\\creator.py:138: RuntimeWarning: A class named 'FitnessMax' has already been created and it will be overwritten. Consider deleting previous creation of that class or rename it.\n",
      "  warnings.warn(\"A class named '{0}' has already been created and it \"\n",
      "c:\\Users\\adamw\\OneDrive\\桌面\\VirtualEnv\\v01\\lib\\site-packages\\deap\\creator.py:138: RuntimeWarning: A class named 'Individual' has already been created and it will be overwritten. Consider deleting previous creation of that class or rename it.\n",
      "  warnings.warn(\"A class named '{0}' has already been created and it \"\n"
     ]
    }
   ],
   "source": [
    "import random\n",
    "from deap import creator, base, tools, algorithms\n",
    "\n",
    "creator.create(\"FitnessMax\", base.Fitness, weights=(1.0,)) \n",
    "creator.create(\"Individual\", list, fitness=creator.FitnessMax)\n",
    "\n",
    "toolbox = base.Toolbox()\n",
    "\n",
    "toolbox.register(\"attr\", random.randint, 0, 1) # 0~1隨機產生\n",
    "toolbox.register(\"individual\", tools.initRepeat, creator.Individual, toolbox.attr, n=5) # 產生一段基因\n",
    "toolbox.register(\"population\", tools.initRepeat, list, toolbox.individual)\n",
    "\n",
    "def evalOneMax(individual):\n",
    "    return sum(individual),\n",
    "\n",
    "toolbox.register(\"evaluate\", evalOneMax)\n",
    "toolbox.register(\"mate\", tools.cxTwoPoint)\n",
    "toolbox.register(\"mutate\", tools.mutFlipBit, indpb=0.05)\n",
    "toolbox.register(\"select\", tools.selTournament, tournsize=3)\n",
    "\n",
    "population = toolbox.population(n=25) #染色體數量\n",
    "print(population)\n",
    "NGEN=20 #代數\n",
    "for gen in range(NGEN):\n",
    "    offspring = algorithms.varAnd(population, toolbox, cxpb=0.5, mutpb=0.1)\n",
    "    fits = toolbox.map(toolbox.evaluate, offspring)\n",
    "    for fit, ind in zip(fits, offspring):\n",
    "        ind.fitness.values = fit\n",
    "    population = toolbox.select(offspring, k=len(population))\n",
    "top10 = tools.selBest(population, k=10)\n",
    "print('-----------')\n",
    "print(top10)"
   ]
  },
  {
   "cell_type": "markdown",
   "metadata": {},
   "source": [
    "### ex2"
   ]
  },
  {
   "cell_type": "code",
   "execution_count": 32,
   "metadata": {},
   "outputs": [
    {
     "name": "stdout",
     "output_type": "stream",
     "text": [
      "(2.804732017553008,)\n",
      "(2.6542853151725883,)\n",
      "(2.4216848262564943,)\n",
      "(3.2454306993767283,)\n",
      "(3.2833113000488257,)\n",
      "(2.6182299111547467,)\n",
      "(3.041476820503433,)\n",
      "(2.931235062152963,)\n",
      "(3.6677218671343197,)\n",
      "(2.395916209340685,)\n"
     ]
    }
   ],
   "source": [
    "from deap import base, creator, tools\n",
    "import numpy as np\n",
    "# 問題求解方向\n",
    "creator.create('FitnessMin', base.Fitness, weights=(-1.0,)) #优化目标：单变量，求最小值\n",
    "creator.create('Individual', list, fitness = creator.FitnessMin) #创建Individual类，继承list\n",
    "\n",
    "# 基因定義\n",
    "IND_SIZE = 5\n",
    "toolbox = base.Toolbox()\n",
    "toolbox.register('Attr_float', np.random.rand)\n",
    "toolbox.register('Individual', tools.initRepeat, creator.Individual, toolbox.Attr_float, n=IND_SIZE)\n",
    "\n",
    "# 族群產生\n",
    "N_POP = 10\n",
    "toolbox.register('Population', tools.initRepeat, list, toolbox.Individual)\n",
    "pop = toolbox.Population(n = N_POP)\n",
    "\n",
    "# 定义评价函数\n",
    "def evaluate(individual):\n",
    "  return sum(individual), #注意这个逗号，即使是单变量优化问题，也需要返回tuple\n",
    "\n",
    "# 评价初始族群\n",
    "toolbox.register('Evaluate', evaluate)\n",
    "fitnesses = map(toolbox.Evaluate, pop)\n",
    "for ind, fit in zip(pop, fitnesses):\n",
    "  ind.fitness.values = fit\n",
    "  print(ind.fitness.values)\n",
    "\n",
    "# 结果：\n",
    "# (2.593989197511478,)\n",
    "# (1.1287944225903104,)\n",
    "# (2.6030877077096717,)\n",
    "# (3.304964061515382,)\n",
    "# (2.534627558467466,)\n",
    "# (2.4697149450205536,)\n",
    "# (2.344837782191844,)\n",
    "# (1.8959030773060852,)\n",
    "# (2.5192475334239,)\n",
    "# (3.5069764929866585,)"
   ]
  },
  {
   "cell_type": "code",
   "execution_count": null,
   "metadata": {},
   "outputs": [],
   "source": []
  },
  {
   "cell_type": "code",
   "execution_count": null,
   "metadata": {},
   "outputs": [],
   "source": []
  },
  {
   "cell_type": "code",
   "execution_count": null,
   "metadata": {},
   "outputs": [],
   "source": []
  },
  {
   "cell_type": "code",
   "execution_count": null,
   "metadata": {},
   "outputs": [],
   "source": []
  }
 ],
 "metadata": {
  "kernelspec": {
   "display_name": "v01",
   "language": "python",
   "name": "v01"
  },
  "language_info": {
   "codemirror_mode": {
    "name": "ipython",
    "version": 3
   },
   "file_extension": ".py",
   "mimetype": "text/x-python",
   "name": "python",
   "nbconvert_exporter": "python",
   "pygments_lexer": "ipython3",
   "version": "3.10.5"
  },
  "orig_nbformat": 4
 },
 "nbformat": 4,
 "nbformat_minor": 2
}
